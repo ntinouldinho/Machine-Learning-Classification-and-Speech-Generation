{
 "cells": [
  {
   "cell_type": "markdown",
   "metadata": {
    "id": "KGTSouiBTYKP"
   },
   "source": [
    "<h1>3η εργασία Μηχανική Μάθηση-Greek Parliament Proceedings </h1>"
   ]
  },
  {
   "cell_type": "markdown",
   "metadata": {
    "id": "hf8L0e8WTYKW"
   },
   "source": [
    "# Κωνσταντίνος Κωνσταντόπουλος p3170086"
   ]
  },
  {
   "cell_type": "markdown",
   "metadata": {
    "id": "kunMppZnTYKX"
   },
   "source": [
    "## Imports"
   ]
  },
  {
   "cell_type": "code",
   "execution_count": 18,
   "metadata": {
    "id": "y0ENl2D1TYKX"
   },
   "outputs": [],
   "source": [
    "import pandas as pd\n",
    "import numpy as np \n",
    "\n",
    "import spacy\n",
    "from spacy.lang.el.stop_words import STOP_WORDS\n",
    "\n",
    "from sklearn.pipeline import Pipeline\n",
    "from sklearn.feature_extraction.text import CountVectorizer,TfidfTransformer,HashingVectorizer\n",
    "from sklearn.naive_bayes import MultinomialNB\n",
    "from sklearn.model_selection import GridSearchCV\n",
    "from sklearn.model_selection import train_test_split\n",
    "from sklearn import metrics\n",
    "import matplotlib.pyplot as plt\n",
    "from tensorflow import keras\n",
    "from tensorflow.keras import layers\n",
    "from sklearn.dummy import DummyClassifier\n",
    "\n",
    "import numpy as np\n",
    "import random\n",
    "import io\n",
    "import os\n",
    "\n",
    "import matplotlib\n",
    "\n",
    "from collections import defaultdict\n",
    "\n",
    "import time\n",
    "from sklearn.svm import LinearSVC\n",
    "from sklearn.feature_extraction.text import TfidfVectorizer\n",
    "\n",
    "%matplotlib inline\n",
    "\n",
    "matplotlib.style.use('ggplot')\n",
    "\n",
    "pd.set_option(\"display.max_columns\", None)"
   ]
  },
  {
   "cell_type": "markdown",
   "metadata": {
    "id": "N4h6z4bMTYKZ"
   },
   "source": [
    "## Loading our dataset"
   ]
  },
  {
   "cell_type": "markdown",
   "metadata": {
    "id": "pMI_mzpITYKa"
   },
   "source": [
    "* We read the zipped csv and keep only the four columns that are of value to us"
   ]
  },
  {
   "cell_type": "code",
   "execution_count": 2,
   "metadata": {
    "colab": {
     "base_uri": "https://localhost:8080/",
     "height": 419
    },
    "id": "QgyVFd5QTYKa",
    "outputId": "88f321c6-836d-4cd6-d9b6-f352c1d659c6"
   },
   "outputs": [
    {
     "data": {
      "text/html": [
       "<div>\n",
       "<style scoped>\n",
       "    .dataframe tbody tr th:only-of-type {\n",
       "        vertical-align: middle;\n",
       "    }\n",
       "\n",
       "    .dataframe tbody tr th {\n",
       "        vertical-align: top;\n",
       "    }\n",
       "\n",
       "    .dataframe thead th {\n",
       "        text-align: right;\n",
       "    }\n",
       "</style>\n",
       "<table border=\"1\" class=\"dataframe\">\n",
       "  <thead>\n",
       "    <tr style=\"text-align: right;\">\n",
       "      <th></th>\n",
       "      <th>member_name</th>\n",
       "      <th>speech</th>\n",
       "      <th>political_party</th>\n",
       "      <th>sitting_date</th>\n",
       "    </tr>\n",
       "  </thead>\n",
       "  <tbody>\n",
       "    <tr>\n",
       "      <th>0</th>\n",
       "      <td>κρητικος νικολαου παναγιωτης</td>\n",
       "      <td>Παρακαλείται ο Γραμματέας κ. Βουλγαράκης να σ...</td>\n",
       "      <td>πανελληνιο σοσιαλιστικο κινημα</td>\n",
       "      <td>1989-07-03</td>\n",
       "    </tr>\n",
       "    <tr>\n",
       "      <th>1</th>\n",
       "      <td>κρητικος νικολαου παναγιωτης</td>\n",
       "      <td>Παρακαλείται ο κύριος Γραμματέας να συνοδεύσε...</td>\n",
       "      <td>πανελληνιο σοσιαλιστικο κινημα</td>\n",
       "      <td>1989-07-03</td>\n",
       "    </tr>\n",
       "    <tr>\n",
       "      <th>2</th>\n",
       "      <td>κρητικος νικολαου παναγιωτης</td>\n",
       "      <td>Κύριοι συνάδελφοι, παρακαλώ τη Βουλή να εξουσ...</td>\n",
       "      <td>πανελληνιο σοσιαλιστικο κινημα</td>\n",
       "      <td>1989-07-03</td>\n",
       "    </tr>\n",
       "    <tr>\n",
       "      <th>3</th>\n",
       "      <td>NaN</td>\n",
       "      <td>Μάλιστα, μάλιστα.</td>\n",
       "      <td>βουλη</td>\n",
       "      <td>1989-07-03</td>\n",
       "    </tr>\n",
       "    <tr>\n",
       "      <th>4</th>\n",
       "      <td>κρητικος νικολαου παναγιωτης</td>\n",
       "      <td>Η Βουλή παρέσχε τη ζητηθείσα εξουσιοδότηση. Μ...</td>\n",
       "      <td>πανελληνιο σοσιαλιστικο κινημα</td>\n",
       "      <td>1989-07-03</td>\n",
       "    </tr>\n",
       "    <tr>\n",
       "      <th>...</th>\n",
       "      <td>...</td>\n",
       "      <td>...</td>\n",
       "      <td>...</td>\n",
       "      <td>...</td>\n",
       "    </tr>\n",
       "    <tr>\n",
       "      <th>1194402</th>\n",
       "      <td>συντυχακης δανιηλ εμμανουηλ</td>\n",
       "      <td>Κύριε Πρόεδρε, οι καταστροφές προφανώς δεν ήτ...</td>\n",
       "      <td>κομμουνιστικο κομμα ελλαδας</td>\n",
       "      <td>2019-02-22</td>\n",
       "    </tr>\n",
       "    <tr>\n",
       "      <th>1194403</th>\n",
       "      <td>κακλαμανης μιχαηλ νικητας</td>\n",
       "      <td>Ορίστε, κύριε Υπουργέ, έχετε τον λόγο.</td>\n",
       "      <td>νεα δημοκρατια</td>\n",
       "      <td>2019-02-22</td>\n",
       "    </tr>\n",
       "    <tr>\n",
       "      <th>1194404</th>\n",
       "      <td>κακλαμανης μιχαηλ νικητας</td>\n",
       "      <td>Αρκεί και το κεντρικό κράτος, κύριε Υπουργέ, ...</td>\n",
       "      <td>νεα δημοκρατια</td>\n",
       "      <td>2019-02-22</td>\n",
       "    </tr>\n",
       "    <tr>\n",
       "      <th>1194405</th>\n",
       "      <td>NaN</td>\n",
       "      <td>Μάλιστα, μάλιστα.</td>\n",
       "      <td>βουλη</td>\n",
       "      <td>2019-02-22</td>\n",
       "    </tr>\n",
       "    <tr>\n",
       "      <th>1194406</th>\n",
       "      <td>κακλαμανης μιχαηλ νικητας</td>\n",
       "      <td>Με τη συναίνεση του Σώματος και ώρα 11.25΄ λύ...</td>\n",
       "      <td>νεα δημοκρατια</td>\n",
       "      <td>2019-02-22</td>\n",
       "    </tr>\n",
       "  </tbody>\n",
       "</table>\n",
       "<p>1194235 rows × 4 columns</p>\n",
       "</div>"
      ],
      "text/plain": [
       "                          member_name  \\\n",
       "0        κρητικος νικολαου παναγιωτης   \n",
       "1        κρητικος νικολαου παναγιωτης   \n",
       "2        κρητικος νικολαου παναγιωτης   \n",
       "3                                 NaN   \n",
       "4        κρητικος νικολαου παναγιωτης   \n",
       "...                               ...   \n",
       "1194402   συντυχακης δανιηλ εμμανουηλ   \n",
       "1194403     κακλαμανης μιχαηλ νικητας   \n",
       "1194404     κακλαμανης μιχαηλ νικητας   \n",
       "1194405                           NaN   \n",
       "1194406     κακλαμανης μιχαηλ νικητας   \n",
       "\n",
       "                                                    speech  \\\n",
       "0         Παρακαλείται ο Γραμματέας κ. Βουλγαράκης να σ...   \n",
       "1         Παρακαλείται ο κύριος Γραμματέας να συνοδεύσε...   \n",
       "2         Κύριοι συνάδελφοι, παρακαλώ τη Βουλή να εξουσ...   \n",
       "3                                        Μάλιστα, μάλιστα.   \n",
       "4         Η Βουλή παρέσχε τη ζητηθείσα εξουσιοδότηση. Μ...   \n",
       "...                                                    ...   \n",
       "1194402   Κύριε Πρόεδρε, οι καταστροφές προφανώς δεν ήτ...   \n",
       "1194403             Ορίστε, κύριε Υπουργέ, έχετε τον λόγο.   \n",
       "1194404   Αρκεί και το κεντρικό κράτος, κύριε Υπουργέ, ...   \n",
       "1194405                                  Μάλιστα, μάλιστα.   \n",
       "1194406   Με τη συναίνεση του Σώματος και ώρα 11.25΄ λύ...   \n",
       "\n",
       "                        political_party sitting_date  \n",
       "0        πανελληνιο σοσιαλιστικο κινημα   1989-07-03  \n",
       "1        πανελληνιο σοσιαλιστικο κινημα   1989-07-03  \n",
       "2        πανελληνιο σοσιαλιστικο κινημα   1989-07-03  \n",
       "3                                 βουλη   1989-07-03  \n",
       "4        πανελληνιο σοσιαλιστικο κινημα   1989-07-03  \n",
       "...                                 ...          ...  \n",
       "1194402     κομμουνιστικο κομμα ελλαδας   2019-02-22  \n",
       "1194403                  νεα δημοκρατια   2019-02-22  \n",
       "1194404                  νεα δημοκρατια   2019-02-22  \n",
       "1194405                           βουλη   2019-02-22  \n",
       "1194406                  νεα δημοκρατια   2019-02-22  \n",
       "\n",
       "[1194235 rows x 4 columns]"
      ]
     },
     "execution_count": 2,
     "metadata": {
      "tags": []
     },
     "output_type": "execute_result"
    }
   ],
   "source": [
    "parliament_speeches = pd.read_csv(\"Greek_Parliament_Proceedings_1989_2019.csv.zip\", encoding='utf-8', parse_dates=['sitting_date'])\n",
    "\n",
    "parliament_speeches = parliament_speeches[['member_name','speech','political_party','sitting_date']]\n",
    "\n",
    "parliament_speeches = parliament_speeches[(~parliament_speeches['political_party'].isna())&(~parliament_speeches['speech'].isna())] #we don't care if member_name is NaN\n",
    "\n",
    "parliament_speeches"
   ]
  },
  {
   "cell_type": "markdown",
   "metadata": {
    "id": "HI5YCivOTYKa"
   },
   "source": [
    "## Speeches per political party"
   ]
  },
  {
   "cell_type": "markdown",
   "metadata": {
    "id": "ZXoZh65xTYKb"
   },
   "source": [
    "* As seen above there are over 1 million speeches in our dataset. Let's explore it."
   ]
  },
  {
   "cell_type": "markdown",
   "metadata": {
    "id": "GLZn4y_oTYKb"
   },
   "source": [
    "* Below we see all available political parties in our dataset and how many speeches of each we have on record"
   ]
  },
  {
   "cell_type": "markdown",
   "metadata": {
    "id": "bQ1yCxbtTYKb"
   },
   "source": [
    "* It is quite clear that our data is governed by 2 political parties, Nea Dimokratia and PASOK"
   ]
  },
  {
   "cell_type": "markdown",
   "metadata": {
    "id": "dfOzGYVbTYKc"
   },
   "source": [
    "* Based on these results, after we have created some interesting statistics we will exlude certain political parties from our study beacuse of their low number of speeches."
   ]
  },
  {
   "cell_type": "code",
   "execution_count": 3,
   "metadata": {
    "colab": {
     "base_uri": "https://localhost:8080/"
    },
    "id": "JBn1U50kTYKc",
    "outputId": "b19d3a6f-fecd-4aff-b2c8-cf0fe7d5f364"
   },
   "outputs": [
    {
     "data": {
      "text/plain": [
       "νεα δημοκρατια                                                                     385634\n",
       "πανελληνιο σοσιαλιστικο κινημα                                                     377680\n",
       "συνασπισμος ριζοσπαστικης αριστερας                                                126572\n",
       "κομμουνιστικο κομμα ελλαδας                                                         78631\n",
       "βουλη                                                                               45876\n",
       "συνασπισμος της αριστερας των κινηματων και της οικολογιας                          35891\n",
       "ανεξαρτητοι (εκτος κομματος)                                                        29951\n",
       "λαικος ορθοδοξος συναγερμος                                                         23686\n",
       "δημοκρατικη συμπαραταξη (πανελληνιο σοσιαλιστικο κινημα - δημοκρατικη αριστερα)     22991\n",
       "λαικος συνδεσος - χρυση αυγη                                                        14172\n",
       "ανεξαρτητοι ελληνες - πανος καμμενος                                                13785\n",
       "ενωση κεντρωων                                                                       9888\n",
       "το ποταμι                                                                            7672\n",
       "δημοκρατικο κοινωνικο κινημα                                                         6056\n",
       "ανεξαρτητοι ελληνες εθνικη πατριωτικη δημοκρατικη συμμαχια                           5521\n",
       "δημοκρατικη αριστερα                                                                 4204\n",
       "πολιτικη ανοιξη                                                                      3384\n",
       "ανεξαρτητοι δημοκρατικοι βουλευτες                                                   1769\n",
       "λαικη ενοτητα                                                                         346\n",
       "οικολογοι εναλλακτικοι (ομοσπονδια οικολογικων εναλλακτικων οργανωσεων)               307\n",
       "κομμουνιστικο κομμα ελλαδας εσωτερικου                                                202\n",
       "αντιπολιτευση                                                                          11\n",
       "δημοκρατικη ανανεωση                                                                    6\n",
       "Name: political_party, dtype: int64"
      ]
     },
     "execution_count": 3,
     "metadata": {
      "tags": []
     },
     "output_type": "execute_result"
    }
   ],
   "source": [
    "parliament_speeches['political_party'].value_counts()"
   ]
  },
  {
   "cell_type": "markdown",
   "metadata": {
    "id": "8uh-OevuTYKc"
   },
   "source": [
    "## Speeches per year"
   ]
  },
  {
   "cell_type": "markdown",
   "metadata": {
    "id": "CvcVlB2kTYKd"
   },
   "source": [
    "* Below we see a table which contains the total amount of speeches collected per year."
   ]
  },
  {
   "cell_type": "code",
   "execution_count": 4,
   "metadata": {
    "colab": {
     "base_uri": "https://localhost:8080/",
     "height": 979
    },
    "id": "aqfAYxqATYKd",
    "outputId": "a63753bc-7cd5-4ce6-fdab-879d29c64f9d"
   },
   "outputs": [
    {
     "data": {
      "text/html": [
       "<div>\n",
       "<style scoped>\n",
       "    .dataframe tbody tr th:only-of-type {\n",
       "        vertical-align: middle;\n",
       "    }\n",
       "\n",
       "    .dataframe tbody tr th {\n",
       "        vertical-align: top;\n",
       "    }\n",
       "\n",
       "    .dataframe thead th {\n",
       "        text-align: right;\n",
       "    }\n",
       "</style>\n",
       "<table border=\"1\" class=\"dataframe\">\n",
       "  <thead>\n",
       "    <tr style=\"text-align: right;\">\n",
       "      <th></th>\n",
       "      <th>sitting_date</th>\n",
       "      <th>speeches_per_year</th>\n",
       "    </tr>\n",
       "  </thead>\n",
       "  <tbody>\n",
       "    <tr>\n",
       "      <th>0</th>\n",
       "      <td>1989</td>\n",
       "      <td>10544</td>\n",
       "    </tr>\n",
       "    <tr>\n",
       "      <th>1</th>\n",
       "      <td>1990</td>\n",
       "      <td>35696</td>\n",
       "    </tr>\n",
       "    <tr>\n",
       "      <th>2</th>\n",
       "      <td>1991</td>\n",
       "      <td>48263</td>\n",
       "    </tr>\n",
       "    <tr>\n",
       "      <th>3</th>\n",
       "      <td>1992</td>\n",
       "      <td>53896</td>\n",
       "    </tr>\n",
       "    <tr>\n",
       "      <th>4</th>\n",
       "      <td>1993</td>\n",
       "      <td>43834</td>\n",
       "    </tr>\n",
       "    <tr>\n",
       "      <th>5</th>\n",
       "      <td>1994</td>\n",
       "      <td>31136</td>\n",
       "    </tr>\n",
       "    <tr>\n",
       "      <th>6</th>\n",
       "      <td>1996</td>\n",
       "      <td>10751</td>\n",
       "    </tr>\n",
       "    <tr>\n",
       "      <th>7</th>\n",
       "      <td>1997</td>\n",
       "      <td>53531</td>\n",
       "    </tr>\n",
       "    <tr>\n",
       "      <th>8</th>\n",
       "      <td>1998</td>\n",
       "      <td>24392</td>\n",
       "    </tr>\n",
       "    <tr>\n",
       "      <th>9</th>\n",
       "      <td>1999</td>\n",
       "      <td>41148</td>\n",
       "    </tr>\n",
       "    <tr>\n",
       "      <th>10</th>\n",
       "      <td>2000</td>\n",
       "      <td>30005</td>\n",
       "    </tr>\n",
       "    <tr>\n",
       "      <th>11</th>\n",
       "      <td>2001</td>\n",
       "      <td>48818</td>\n",
       "    </tr>\n",
       "    <tr>\n",
       "      <th>12</th>\n",
       "      <td>2002</td>\n",
       "      <td>29093</td>\n",
       "    </tr>\n",
       "    <tr>\n",
       "      <th>13</th>\n",
       "      <td>2003</td>\n",
       "      <td>31591</td>\n",
       "    </tr>\n",
       "    <tr>\n",
       "      <th>14</th>\n",
       "      <td>2004</td>\n",
       "      <td>26822</td>\n",
       "    </tr>\n",
       "    <tr>\n",
       "      <th>15</th>\n",
       "      <td>2005</td>\n",
       "      <td>51884</td>\n",
       "    </tr>\n",
       "    <tr>\n",
       "      <th>16</th>\n",
       "      <td>2006</td>\n",
       "      <td>39535</td>\n",
       "    </tr>\n",
       "    <tr>\n",
       "      <th>17</th>\n",
       "      <td>2007</td>\n",
       "      <td>37519</td>\n",
       "    </tr>\n",
       "    <tr>\n",
       "      <th>18</th>\n",
       "      <td>2008</td>\n",
       "      <td>52873</td>\n",
       "    </tr>\n",
       "    <tr>\n",
       "      <th>19</th>\n",
       "      <td>2009</td>\n",
       "      <td>31020</td>\n",
       "    </tr>\n",
       "    <tr>\n",
       "      <th>20</th>\n",
       "      <td>2010</td>\n",
       "      <td>45864</td>\n",
       "    </tr>\n",
       "    <tr>\n",
       "      <th>21</th>\n",
       "      <td>2011</td>\n",
       "      <td>54758</td>\n",
       "    </tr>\n",
       "    <tr>\n",
       "      <th>22</th>\n",
       "      <td>2012</td>\n",
       "      <td>41307</td>\n",
       "    </tr>\n",
       "    <tr>\n",
       "      <th>23</th>\n",
       "      <td>2013</td>\n",
       "      <td>52192</td>\n",
       "    </tr>\n",
       "    <tr>\n",
       "      <th>24</th>\n",
       "      <td>2014</td>\n",
       "      <td>59677</td>\n",
       "    </tr>\n",
       "    <tr>\n",
       "      <th>25</th>\n",
       "      <td>2015</td>\n",
       "      <td>36880</td>\n",
       "    </tr>\n",
       "    <tr>\n",
       "      <th>26</th>\n",
       "      <td>2016</td>\n",
       "      <td>72671</td>\n",
       "    </tr>\n",
       "    <tr>\n",
       "      <th>27</th>\n",
       "      <td>2017</td>\n",
       "      <td>52006</td>\n",
       "    </tr>\n",
       "    <tr>\n",
       "      <th>28</th>\n",
       "      <td>2018</td>\n",
       "      <td>38564</td>\n",
       "    </tr>\n",
       "    <tr>\n",
       "      <th>29</th>\n",
       "      <td>2019</td>\n",
       "      <td>7965</td>\n",
       "    </tr>\n",
       "  </tbody>\n",
       "</table>\n",
       "</div>"
      ],
      "text/plain": [
       "    sitting_date  speeches_per_year\n",
       "0           1989              10544\n",
       "1           1990              35696\n",
       "2           1991              48263\n",
       "3           1992              53896\n",
       "4           1993              43834\n",
       "5           1994              31136\n",
       "6           1996              10751\n",
       "7           1997              53531\n",
       "8           1998              24392\n",
       "9           1999              41148\n",
       "10          2000              30005\n",
       "11          2001              48818\n",
       "12          2002              29093\n",
       "13          2003              31591\n",
       "14          2004              26822\n",
       "15          2005              51884\n",
       "16          2006              39535\n",
       "17          2007              37519\n",
       "18          2008              52873\n",
       "19          2009              31020\n",
       "20          2010              45864\n",
       "21          2011              54758\n",
       "22          2012              41307\n",
       "23          2013              52192\n",
       "24          2014              59677\n",
       "25          2015              36880\n",
       "26          2016              72671\n",
       "27          2017              52006\n",
       "28          2018              38564\n",
       "29          2019               7965"
      ]
     },
     "execution_count": 4,
     "metadata": {
      "tags": []
     },
     "output_type": "execute_result"
    }
   ],
   "source": [
    "contrib= parliament_speeches.groupby(parliament_speeches.sitting_date.dt.year)['speech'].agg(speeches_per_year='count').reset_index()\n",
    "contrib"
   ]
  },
  {
   "cell_type": "markdown",
   "metadata": {
    "id": "DfJ4oaZpTYKd"
   },
   "source": [
    "* We plot the table above to get a better idea of how many speeches we have in our disposal."
   ]
  },
  {
   "cell_type": "code",
   "execution_count": 5,
   "metadata": {
    "colab": {
     "base_uri": "https://localhost:8080/",
     "height": 299
    },
    "id": "dPfUzIdTTYKd",
    "outputId": "4e7fce12-bdf3-453e-ce97-2d2b35a59a82"
   },
   "outputs": [
    {
     "data": {
      "text/plain": [
       "<matplotlib.axes._subplots.AxesSubplot at 0x7feabb5ce4a8>"
      ]
     },
     "execution_count": 5,
     "metadata": {
      "tags": []
     },
     "output_type": "execute_result"
    },
    {
     "data": {
      "image/png": "[encoded data removed]",
      "text/plain": [
       "<Figure size 432x288 with 1 Axes>"
      ]
     },
     "metadata": {
      "needs_background": "light",
      "tags": []
     },
     "output_type": "display_data"
    }
   ],
   "source": [
    "contrib.plot(x ='sitting_date', y='speeches_per_year', kind = 'line')"
   ]
  },
  {
   "cell_type": "markdown",
   "metadata": {
    "id": "UXiUCbeqTYKe"
   },
   "source": [
    "## Number of speakers per political party"
   ]
  },
  {
   "cell_type": "code",
   "execution_count": 6,
   "metadata": {
    "colab": {
     "base_uri": "https://localhost:8080/",
     "height": 723
    },
    "id": "iJalJCBUTYKe",
    "outputId": "efdcafc1-e12f-4c46-851b-17e0a3a7ccc4"
   },
   "outputs": [
    {
     "data": {
      "text/plain": [
       "<matplotlib.axes._subplots.AxesSubplot at 0x7feabb4b5d30>"
      ]
     },
     "execution_count": 6,
     "metadata": {
      "tags": []
     },
     "output_type": "execute_result"
    },
    {
     "data": {
      "image/png": "[encoded data removed]",
      "text/plain": [
       "<Figure size 432x288 with 1 Axes>"
      ]
     },
     "metadata": {
      "needs_background": "light",
      "tags": []
     },
     "output_type": "display_data"
    }
   ],
   "source": [
    "speakers= parliament_speeches.groupby(['political_party'])['member_name'].nunique().reset_index()\n",
    "speakers=speakers.sort_values(by='member_name', ascending=False)\n",
    "speakers.plot(x ='political_party', y='member_name', kind = 'bar')"
   ]
  },
  {
   "cell_type": "markdown",
   "metadata": {
    "id": "iIoYZK4nTYKh"
   },
   "source": [
    "## Speeches per political party and member name"
   ]
  },
  {
   "cell_type": "markdown",
   "metadata": {
    "id": "7szwWmzVTYKi"
   },
   "source": [
    "* The reason that we have chosen to take in to our consideration the political parties is because a certain member of the parliement over time may have supported an amount of different political parties. "
   ]
  },
  {
   "cell_type": "markdown",
   "metadata": {
    "id": "WcZ75uZUTYKi"
   },
   "source": [
    "* As seen below, there is a certain amount of politicians who have, over time, chosen to support a total of over 3 political parties!"
   ]
  },
  {
   "cell_type": "code",
   "execution_count": 7,
   "metadata": {
    "colab": {
     "base_uri": "https://localhost:8080/",
     "height": 359
    },
    "id": "QNI7ty2mTYKj",
    "outputId": "6f02e6c1-02e8-4276-e549-b3836a272df8"
   },
   "outputs": [
    {
     "data": {
      "text/html": [
       "<div>\n",
       "<style scoped>\n",
       "    .dataframe tbody tr th:only-of-type {\n",
       "        vertical-align: middle;\n",
       "    }\n",
       "\n",
       "    .dataframe tbody tr th {\n",
       "        vertical-align: top;\n",
       "    }\n",
       "\n",
       "    .dataframe thead th {\n",
       "        text-align: right;\n",
       "    }\n",
       "</style>\n",
       "<table border=\"1\" class=\"dataframe\">\n",
       "  <thead>\n",
       "    <tr style=\"text-align: right;\">\n",
       "      <th></th>\n",
       "      <th>member_name</th>\n",
       "      <th>political_party</th>\n",
       "    </tr>\n",
       "  </thead>\n",
       "  <tbody>\n",
       "    <tr>\n",
       "      <th>801</th>\n",
       "      <td>νικολοπουλος ιωαννου νικολαος</td>\n",
       "      <td>5</td>\n",
       "    </tr>\n",
       "    <tr>\n",
       "      <th>536</th>\n",
       "      <td>κουβελης ευαγγελου φωτιος-φανουριος</td>\n",
       "      <td>4</td>\n",
       "    </tr>\n",
       "    <tr>\n",
       "      <th>349</th>\n",
       "      <td>ιατριδη ιωαννη τσαμπικα (μικα)</td>\n",
       "      <td>4</td>\n",
       "    </tr>\n",
       "    <tr>\n",
       "      <th>270</th>\n",
       "      <td>δημαρας νικολαου ιωαννης</td>\n",
       "      <td>4</td>\n",
       "    </tr>\n",
       "    <tr>\n",
       "      <th>824</th>\n",
       "      <td>οικονομου αθανασιου βασιλειος</td>\n",
       "      <td>4</td>\n",
       "    </tr>\n",
       "    <tr>\n",
       "      <th>719</th>\n",
       "      <td>μιχελογιαννακης δημητριου ιωαννης</td>\n",
       "      <td>4</td>\n",
       "    </tr>\n",
       "    <tr>\n",
       "      <th>100</th>\n",
       "      <td>αχμετ σαμπρη ιλχαν</td>\n",
       "      <td>4</td>\n",
       "    </tr>\n",
       "    <tr>\n",
       "      <th>548</th>\n",
       "      <td>κουντουρα αλεξανδρου ελενα</td>\n",
       "      <td>4</td>\n",
       "    </tr>\n",
       "    <tr>\n",
       "      <th>157</th>\n",
       "      <td>βουδουρης γεωργιου οδυσσευς-νικος</td>\n",
       "      <td>4</td>\n",
       "    </tr>\n",
       "    <tr>\n",
       "      <th>640</th>\n",
       "      <td>λοβερδος νικολαου ανδρεας</td>\n",
       "      <td>4</td>\n",
       "    </tr>\n",
       "  </tbody>\n",
       "</table>\n",
       "</div>"
      ],
      "text/plain": [
       "                             member_name  political_party\n",
       "801        νικολοπουλος ιωαννου νικολαος                5\n",
       "536  κουβελης ευαγγελου φωτιος-φανουριος                4\n",
       "349       ιατριδη ιωαννη τσαμπικα (μικα)                4\n",
       "270             δημαρας νικολαου ιωαννης                4\n",
       "824        οικονομου αθανασιου βασιλειος                4\n",
       "719    μιχελογιαννακης δημητριου ιωαννης                4\n",
       "100                   αχμετ σαμπρη ιλχαν                4\n",
       "548           κουντουρα αλεξανδρου ελενα                4\n",
       "157    βουδουρης γεωργιου οδυσσευς-νικος                4\n",
       "640            λοβερδος νικολαου ανδρεας                4"
      ]
     },
     "execution_count": 7,
     "metadata": {
      "tags": []
     },
     "output_type": "execute_result"
    }
   ],
   "source": [
    "speakers= parliament_speeches.groupby(['member_name'])['political_party'].nunique().reset_index()\n",
    "speakers=speakers.sort_values(by='political_party', ascending=False)\n",
    "speakers.head(10)"
   ]
  },
  {
   "cell_type": "markdown",
   "metadata": {
    "id": "A3x1j6f-TYKj"
   },
   "source": [
    "* As stated above, after involving the political party, we count how many speeches a politicial has given per political party in the span of 30 years."
   ]
  },
  {
   "cell_type": "code",
   "execution_count": 8,
   "metadata": {
    "colab": {
     "base_uri": "https://localhost:8080/",
     "height": 669
    },
    "id": "T4ufNaIHTYKj",
    "outputId": "615a170c-797e-4950-ce86-825abe5af3af"
   },
   "outputs": [
    {
     "data": {
      "text/html": [
       "<div>\n",
       "<style scoped>\n",
       "    .dataframe tbody tr th:only-of-type {\n",
       "        vertical-align: middle;\n",
       "    }\n",
       "\n",
       "    .dataframe tbody tr th {\n",
       "        vertical-align: top;\n",
       "    }\n",
       "\n",
       "    .dataframe thead th {\n",
       "        text-align: right;\n",
       "    }\n",
       "</style>\n",
       "<table border=\"1\" class=\"dataframe\">\n",
       "  <thead>\n",
       "    <tr style=\"text-align: right;\">\n",
       "      <th></th>\n",
       "      <th>political_party</th>\n",
       "      <th>member_name</th>\n",
       "      <th>speeches_per_speaker</th>\n",
       "    </tr>\n",
       "  </thead>\n",
       "  <tbody>\n",
       "    <tr>\n",
       "      <th>0</th>\n",
       "      <td>πανελληνιο σοσιαλιστικο κινημα</td>\n",
       "      <td>κακλαμανης χρηστου αποστολος</td>\n",
       "      <td>35338</td>\n",
       "    </tr>\n",
       "    <tr>\n",
       "      <th>1</th>\n",
       "      <td>πανελληνιο σοσιαλιστικο κινημα</td>\n",
       "      <td>σγουριδης σγουρη παναγιωτης</td>\n",
       "      <td>31656</td>\n",
       "    </tr>\n",
       "    <tr>\n",
       "      <th>2</th>\n",
       "      <td>νεα δημοκρατια</td>\n",
       "      <td>σουρλας ιωαννη γεωργιος</td>\n",
       "      <td>28391</td>\n",
       "    </tr>\n",
       "    <tr>\n",
       "      <th>3</th>\n",
       "      <td>πανελληνιο σοσιαλιστικο κινημα</td>\n",
       "      <td>κρητικος νικολαου παναγιωτης</td>\n",
       "      <td>24528</td>\n",
       "    </tr>\n",
       "    <tr>\n",
       "      <th>4</th>\n",
       "      <td>πανελληνιο σοσιαλιστικο κινημα</td>\n",
       "      <td>γειτονας ιωαννη κωνσταντινος</td>\n",
       "      <td>18673</td>\n",
       "    </tr>\n",
       "    <tr>\n",
       "      <th>5</th>\n",
       "      <td>νεα δημοκρατια</td>\n",
       "      <td>τραγακης παναγιωτη ιωαννης</td>\n",
       "      <td>18471</td>\n",
       "    </tr>\n",
       "    <tr>\n",
       "      <th>6</th>\n",
       "      <td>νεα δημοκρατια</td>\n",
       "      <td>χατζηγακης μιχαηλ σωτηριος</td>\n",
       "      <td>15417</td>\n",
       "    </tr>\n",
       "    <tr>\n",
       "      <th>7</th>\n",
       "      <td>νεα δημοκρατια</td>\n",
       "      <td>μπενακη-ψαρουδα ευαγγελου αννα</td>\n",
       "      <td>14483</td>\n",
       "    </tr>\n",
       "    <tr>\n",
       "      <th>8</th>\n",
       "      <td>νεα δημοκρατια</td>\n",
       "      <td>κακλαμανης μιχαηλ νικητας</td>\n",
       "      <td>12640</td>\n",
       "    </tr>\n",
       "    <tr>\n",
       "      <th>9</th>\n",
       "      <td>συνασπισμος της αριστερας των κινηματων και τη...</td>\n",
       "      <td>δρεττακης γεωργιου εμμανουηλ</td>\n",
       "      <td>12158</td>\n",
       "    </tr>\n",
       "    <tr>\n",
       "      <th>10</th>\n",
       "      <td>νεα δημοκρατια</td>\n",
       "      <td>τσαλδαρης κωνσταντινου αθανασιος</td>\n",
       "      <td>11732</td>\n",
       "    </tr>\n",
       "    <tr>\n",
       "      <th>11</th>\n",
       "      <td>νεα δημοκρατια</td>\n",
       "      <td>πολυδωρας γεωργιου βυρων</td>\n",
       "      <td>11020</td>\n",
       "    </tr>\n",
       "    <tr>\n",
       "      <th>12</th>\n",
       "      <td>νεα δημοκρατια</td>\n",
       "      <td>μαρκογιαννακης εμμανουηλ χρηστος</td>\n",
       "      <td>10939</td>\n",
       "    </tr>\n",
       "    <tr>\n",
       "      <th>13</th>\n",
       "      <td>συνασπισμος ριζοσπαστικης αριστερας</td>\n",
       "      <td>κουρακης στυλιανου αναστασιος (τασος)</td>\n",
       "      <td>10666</td>\n",
       "    </tr>\n",
       "    <tr>\n",
       "      <th>14</th>\n",
       "      <td>πανελληνιο σοσιαλιστικο κινημα</td>\n",
       "      <td>αποστολιδης θωμα λουκας</td>\n",
       "      <td>10434</td>\n",
       "    </tr>\n",
       "    <tr>\n",
       "      <th>15</th>\n",
       "      <td>νεα δημοκρατια</td>\n",
       "      <td>φραγκος αναστασιου δημητριος</td>\n",
       "      <td>10219</td>\n",
       "    </tr>\n",
       "    <tr>\n",
       "      <th>16</th>\n",
       "      <td>πανελληνιο σοσιαλιστικο κινημα</td>\n",
       "      <td>νιωτης δημητριου γρηγοριος</td>\n",
       "      <td>10084</td>\n",
       "    </tr>\n",
       "    <tr>\n",
       "      <th>17</th>\n",
       "      <td>πανελληνιο σοσιαλιστικο κινημα</td>\n",
       "      <td>πετσαλνικος ιωαννη φιλιππος</td>\n",
       "      <td>9930</td>\n",
       "    </tr>\n",
       "    <tr>\n",
       "      <th>18</th>\n",
       "      <td>κομμουνιστικο κομμα ελλαδας</td>\n",
       "      <td>νικολαιδου αρισταρχου βαρβαρα (βερα)</td>\n",
       "      <td>9873</td>\n",
       "    </tr>\n",
       "    <tr>\n",
       "      <th>19</th>\n",
       "      <td>πανελληνιο σοσιαλιστικο κινημα</td>\n",
       "      <td>αργυρης ιωαννη ευαγγελος</td>\n",
       "      <td>9164</td>\n",
       "    </tr>\n",
       "  </tbody>\n",
       "</table>\n",
       "</div>"
      ],
      "text/plain": [
       "                                      political_party  \\\n",
       "0                      πανελληνιο σοσιαλιστικο κινημα   \n",
       "1                      πανελληνιο σοσιαλιστικο κινημα   \n",
       "2                                      νεα δημοκρατια   \n",
       "3                      πανελληνιο σοσιαλιστικο κινημα   \n",
       "4                      πανελληνιο σοσιαλιστικο κινημα   \n",
       "5                                      νεα δημοκρατια   \n",
       "6                                      νεα δημοκρατια   \n",
       "7                                      νεα δημοκρατια   \n",
       "8                                      νεα δημοκρατια   \n",
       "9   συνασπισμος της αριστερας των κινηματων και τη...   \n",
       "10                                     νεα δημοκρατια   \n",
       "11                                     νεα δημοκρατια   \n",
       "12                                     νεα δημοκρατια   \n",
       "13                συνασπισμος ριζοσπαστικης αριστερας   \n",
       "14                     πανελληνιο σοσιαλιστικο κινημα   \n",
       "15                                     νεα δημοκρατια   \n",
       "16                     πανελληνιο σοσιαλιστικο κινημα   \n",
       "17                     πανελληνιο σοσιαλιστικο κινημα   \n",
       "18                        κομμουνιστικο κομμα ελλαδας   \n",
       "19                     πανελληνιο σοσιαλιστικο κινημα   \n",
       "\n",
       "                              member_name  speeches_per_speaker  \n",
       "0            κακλαμανης χρηστου αποστολος                 35338  \n",
       "1             σγουριδης σγουρη παναγιωτης                 31656  \n",
       "2                 σουρλας ιωαννη γεωργιος                 28391  \n",
       "3            κρητικος νικολαου παναγιωτης                 24528  \n",
       "4            γειτονας ιωαννη κωνσταντινος                 18673  \n",
       "5              τραγακης παναγιωτη ιωαννης                 18471  \n",
       "6              χατζηγακης μιχαηλ σωτηριος                 15417  \n",
       "7          μπενακη-ψαρουδα ευαγγελου αννα                 14483  \n",
       "8               κακλαμανης μιχαηλ νικητας                 12640  \n",
       "9            δρεττακης γεωργιου εμμανουηλ                 12158  \n",
       "10       τσαλδαρης κωνσταντινου αθανασιος                 11732  \n",
       "11               πολυδωρας γεωργιου βυρων                 11020  \n",
       "12       μαρκογιαννακης εμμανουηλ χρηστος                 10939  \n",
       "13  κουρακης στυλιανου αναστασιος (τασος)                 10666  \n",
       "14                αποστολιδης θωμα λουκας                 10434  \n",
       "15           φραγκος αναστασιου δημητριος                 10219  \n",
       "16             νιωτης δημητριου γρηγοριος                 10084  \n",
       "17            πετσαλνικος ιωαννη φιλιππος                  9930  \n",
       "18   νικολαιδου αρισταρχου βαρβαρα (βερα)                  9873  \n",
       "19               αργυρης ιωαννη ευαγγελος                  9164  "
      ]
     },
     "execution_count": 8,
     "metadata": {
      "tags": []
     },
     "output_type": "execute_result"
    }
   ],
   "source": [
    "speakers= parliament_speeches.groupby(['political_party','member_name'])['speech'].agg(speeches_per_speaker='count').sort_values(by='speeches_per_speaker', ascending=False).reset_index()\n",
    "speakers.head(20)"
   ]
  },
  {
   "cell_type": "markdown",
   "metadata": {
    "id": "bmbVEWNHTYKk"
   },
   "source": [
    "* As a side remark, we can see that the top politicial in number of speeches per political party, belongs to PASOK and has been active for at least 25 years !"
   ]
  },
  {
   "cell_type": "code",
   "execution_count": 9,
   "metadata": {
    "colab": {
     "base_uri": "https://localhost:8080/",
     "height": 419
    },
    "id": "Hn7QPH1FTYKk",
    "outputId": "53c88d9c-85ee-4a2b-8f37-fb9c5a5d08ba"
   },
   "outputs": [
    {
     "data": {
      "text/html": [
       "<div>\n",
       "<style scoped>\n",
       "    .dataframe tbody tr th:only-of-type {\n",
       "        vertical-align: middle;\n",
       "    }\n",
       "\n",
       "    .dataframe tbody tr th {\n",
       "        vertical-align: top;\n",
       "    }\n",
       "\n",
       "    .dataframe thead th {\n",
       "        text-align: right;\n",
       "    }\n",
       "</style>\n",
       "<table border=\"1\" class=\"dataframe\">\n",
       "  <thead>\n",
       "    <tr style=\"text-align: right;\">\n",
       "      <th></th>\n",
       "      <th>member_name</th>\n",
       "      <th>speech</th>\n",
       "      <th>political_party</th>\n",
       "      <th>sitting_date</th>\n",
       "    </tr>\n",
       "  </thead>\n",
       "  <tbody>\n",
       "    <tr>\n",
       "      <th>410</th>\n",
       "      <td>κακλαμανης χρηστου αποστολος</td>\n",
       "      <td>Κυρίες και κύριοι συνάδελφοι κλείνοντας την αν...</td>\n",
       "      <td>πανελληνιο σοσιαλιστικο κινημα</td>\n",
       "      <td>1989-07-07</td>\n",
       "    </tr>\n",
       "    <tr>\n",
       "      <th>412</th>\n",
       "      <td>κακλαμανης χρηστου αποστολος</td>\n",
       "      <td>Η πρόταση που κατατέθηκε απόψε έχει καθαρά δι...</td>\n",
       "      <td>πανελληνιο σοσιαλιστικο κινημα</td>\n",
       "      <td>1989-07-07</td>\n",
       "    </tr>\n",
       "    <tr>\n",
       "      <th>413</th>\n",
       "      <td>κακλαμανης χρηστου αποστολος</td>\n",
       "      <td>Φαντάζεσθε πραγματικά ότι μπορεί έτσι στη συν...</td>\n",
       "      <td>πανελληνιο σοσιαλιστικο κινημα</td>\n",
       "      <td>1989-07-07</td>\n",
       "    </tr>\n",
       "    <tr>\n",
       "      <th>415</th>\n",
       "      <td>κακλαμανης χρηστου αποστολος</td>\n",
       "      <td>Αγαπητέ φίλε κύριε Γιαννόπουλε, αυτήν τη στιγ...</td>\n",
       "      <td>πανελληνιο σοσιαλιστικο κινημα</td>\n",
       "      <td>1989-07-07</td>\n",
       "    </tr>\n",
       "    <tr>\n",
       "      <th>417</th>\n",
       "      <td>κακλαμανης χρηστου αποστολος</td>\n",
       "      <td>Δεν το λέω εγώ αυτό. Αγαπητοί μου φίλοι, είχα...</td>\n",
       "      <td>πανελληνιο σοσιαλιστικο κινημα</td>\n",
       "      <td>1989-07-07</td>\n",
       "    </tr>\n",
       "    <tr>\n",
       "      <th>...</th>\n",
       "      <td>...</td>\n",
       "      <td>...</td>\n",
       "      <td>...</td>\n",
       "      <td>...</td>\n",
       "    </tr>\n",
       "    <tr>\n",
       "      <th>985340</th>\n",
       "      <td>κακλαμανης χρηστου αποστολος</td>\n",
       "      <td>…να ισχύουν και για αυτά.Ευχαριστώ πολύ.</td>\n",
       "      <td>πανελληνιο σοσιαλιστικο κινημα</td>\n",
       "      <td>2014-12-22</td>\n",
       "    </tr>\n",
       "    <tr>\n",
       "      <th>985345</th>\n",
       "      <td>κακλαμανης χρηστου αποστολος</td>\n",
       "      <td>Αυτό σας προτείνω. Να υπαχθεί...</td>\n",
       "      <td>πανελληνιο σοσιαλιστικο κινημα</td>\n",
       "      <td>2014-12-22</td>\n",
       "    </tr>\n",
       "    <tr>\n",
       "      <th>985347</th>\n",
       "      <td>κακλαμανης χρηστου αποστολος</td>\n",
       "      <td>Ωραία. Ευχαριστώ.</td>\n",
       "      <td>πανελληνιο σοσιαλιστικο κινημα</td>\n",
       "      <td>2014-12-22</td>\n",
       "    </tr>\n",
       "    <tr>\n",
       "      <th>985349</th>\n",
       "      <td>κακλαμανης χρηστου αποστολος</td>\n",
       "      <td>Κύριε Υπουργέ, καλώς ήλθατε. Διαβάστε τα Πρακ...</td>\n",
       "      <td>πανελληνιο σοσιαλιστικο κινημα</td>\n",
       "      <td>2014-12-22</td>\n",
       "    </tr>\n",
       "    <tr>\n",
       "      <th>985352</th>\n",
       "      <td>κακλαμανης χρηστου αποστολος</td>\n",
       "      <td>Δικαιολογήστε, γιατί είστε από το πρωί εδώ.</td>\n",
       "      <td>πανελληνιο σοσιαλιστικο κινημα</td>\n",
       "      <td>2014-12-22</td>\n",
       "    </tr>\n",
       "  </tbody>\n",
       "</table>\n",
       "<p>35338 rows × 4 columns</p>\n",
       "</div>"
      ],
      "text/plain": [
       "                         member_name  \\\n",
       "410     κακλαμανης χρηστου αποστολος   \n",
       "412     κακλαμανης χρηστου αποστολος   \n",
       "413     κακλαμανης χρηστου αποστολος   \n",
       "415     κακλαμανης χρηστου αποστολος   \n",
       "417     κακλαμανης χρηστου αποστολος   \n",
       "...                              ...   \n",
       "985340  κακλαμανης χρηστου αποστολος   \n",
       "985345  κακλαμανης χρηστου αποστολος   \n",
       "985347  κακλαμανης χρηστου αποστολος   \n",
       "985349  κακλαμανης χρηστου αποστολος   \n",
       "985352  κακλαμανης χρηστου αποστολος   \n",
       "\n",
       "                                                   speech  \\\n",
       "410     Κυρίες και κύριοι συνάδελφοι κλείνοντας την αν...   \n",
       "412      Η πρόταση που κατατέθηκε απόψε έχει καθαρά δι...   \n",
       "413      Φαντάζεσθε πραγματικά ότι μπορεί έτσι στη συν...   \n",
       "415      Αγαπητέ φίλε κύριε Γιαννόπουλε, αυτήν τη στιγ...   \n",
       "417      Δεν το λέω εγώ αυτό. Αγαπητοί μου φίλοι, είχα...   \n",
       "...                                                   ...   \n",
       "985340           …να ισχύουν και για αυτά.Ευχαριστώ πολύ.   \n",
       "985345                   Αυτό σας προτείνω. Να υπαχθεί...   \n",
       "985347                                  Ωραία. Ευχαριστώ.   \n",
       "985349   Κύριε Υπουργέ, καλώς ήλθατε. Διαβάστε τα Πρακ...   \n",
       "985352        Δικαιολογήστε, γιατί είστε από το πρωί εδώ.   \n",
       "\n",
       "                       political_party sitting_date  \n",
       "410     πανελληνιο σοσιαλιστικο κινημα   1989-07-07  \n",
       "412     πανελληνιο σοσιαλιστικο κινημα   1989-07-07  \n",
       "413     πανελληνιο σοσιαλιστικο κινημα   1989-07-07  \n",
       "415     πανελληνιο σοσιαλιστικο κινημα   1989-07-07  \n",
       "417     πανελληνιο σοσιαλιστικο κινημα   1989-07-07  \n",
       "...                                ...          ...  \n",
       "985340  πανελληνιο σοσιαλιστικο κινημα   2014-12-22  \n",
       "985345  πανελληνιο σοσιαλιστικο κινημα   2014-12-22  \n",
       "985347  πανελληνιο σοσιαλιστικο κινημα   2014-12-22  \n",
       "985349  πανελληνιο σοσιαλιστικο κινημα   2014-12-22  \n",
       "985352  πανελληνιο σοσιαλιστικο κινημα   2014-12-22  \n",
       "\n",
       "[35338 rows x 4 columns]"
      ]
     },
     "execution_count": 9,
     "metadata": {
      "tags": []
     },
     "output_type": "execute_result"
    }
   ],
   "source": [
    "no1 = parliament_speeches[parliament_speeches['member_name']=='κακλαμανης χρηστου αποστολος']\n",
    "no1"
   ]
  },
  {
   "cell_type": "markdown",
   "metadata": {
    "id": "l9bZmZjpTYKk"
   },
   "source": [
    "## Average number of words per speech"
   ]
  },
  {
   "cell_type": "markdown",
   "metadata": {
    "id": "z1XRejM8TYKk"
   },
   "source": [
    "* This information will be useful later on in our analysis."
   ]
  },
  {
   "cell_type": "code",
   "execution_count": 10,
   "metadata": {
    "colab": {
     "base_uri": "https://localhost:8080/",
     "height": 419
    },
    "id": "6Yz-XV60TYKl",
    "outputId": "979e5ab9-60bc-4957-e260-d3fbdee5507a"
   },
   "outputs": [
    {
     "data": {
      "text/html": [
       "<div>\n",
       "<style scoped>\n",
       "    .dataframe tbody tr th:only-of-type {\n",
       "        vertical-align: middle;\n",
       "    }\n",
       "\n",
       "    .dataframe tbody tr th {\n",
       "        vertical-align: top;\n",
       "    }\n",
       "\n",
       "    .dataframe thead th {\n",
       "        text-align: right;\n",
       "    }\n",
       "</style>\n",
       "<table border=\"1\" class=\"dataframe\">\n",
       "  <thead>\n",
       "    <tr style=\"text-align: right;\">\n",
       "      <th></th>\n",
       "      <th>member_name</th>\n",
       "      <th>speech</th>\n",
       "      <th>political_party</th>\n",
       "      <th>sitting_date</th>\n",
       "      <th>totalwords</th>\n",
       "    </tr>\n",
       "  </thead>\n",
       "  <tbody>\n",
       "    <tr>\n",
       "      <th>0</th>\n",
       "      <td>κρητικος νικολαου παναγιωτης</td>\n",
       "      <td>Παρακαλείται ο Γραμματέας κ. Βουλγαράκης να σ...</td>\n",
       "      <td>πανελληνιο σοσιαλιστικο κινημα</td>\n",
       "      <td>1989-07-03</td>\n",
       "      <td>43</td>\n",
       "    </tr>\n",
       "    <tr>\n",
       "      <th>1</th>\n",
       "      <td>κρητικος νικολαου παναγιωτης</td>\n",
       "      <td>Παρακαλείται ο κύριος Γραμματέας να συνοδεύσε...</td>\n",
       "      <td>πανελληνιο σοσιαλιστικο κινημα</td>\n",
       "      <td>1989-07-03</td>\n",
       "      <td>81</td>\n",
       "    </tr>\n",
       "    <tr>\n",
       "      <th>2</th>\n",
       "      <td>κρητικος νικολαου παναγιωτης</td>\n",
       "      <td>Κύριοι συνάδελφοι, παρακαλώ τη Βουλή να εξουσ...</td>\n",
       "      <td>πανελληνιο σοσιαλιστικο κινημα</td>\n",
       "      <td>1989-07-03</td>\n",
       "      <td>17</td>\n",
       "    </tr>\n",
       "    <tr>\n",
       "      <th>3</th>\n",
       "      <td>NaN</td>\n",
       "      <td>Μάλιστα, μάλιστα.</td>\n",
       "      <td>βουλη</td>\n",
       "      <td>1989-07-03</td>\n",
       "      <td>2</td>\n",
       "    </tr>\n",
       "    <tr>\n",
       "      <th>4</th>\n",
       "      <td>κρητικος νικολαου παναγιωτης</td>\n",
       "      <td>Η Βουλή παρέσχε τη ζητηθείσα εξουσιοδότηση. Μ...</td>\n",
       "      <td>πανελληνιο σοσιαλιστικο κινημα</td>\n",
       "      <td>1989-07-03</td>\n",
       "      <td>37</td>\n",
       "    </tr>\n",
       "    <tr>\n",
       "      <th>...</th>\n",
       "      <td>...</td>\n",
       "      <td>...</td>\n",
       "      <td>...</td>\n",
       "      <td>...</td>\n",
       "      <td>...</td>\n",
       "    </tr>\n",
       "    <tr>\n",
       "      <th>1194402</th>\n",
       "      <td>συντυχακης δανιηλ εμμανουηλ</td>\n",
       "      <td>Κύριε Πρόεδρε, οι καταστροφές προφανώς δεν ήτ...</td>\n",
       "      <td>κομμουνιστικο κομμα ελλαδας</td>\n",
       "      <td>2019-02-22</td>\n",
       "      <td>681</td>\n",
       "    </tr>\n",
       "    <tr>\n",
       "      <th>1194403</th>\n",
       "      <td>κακλαμανης μιχαηλ νικητας</td>\n",
       "      <td>Ορίστε, κύριε Υπουργέ, έχετε τον λόγο.</td>\n",
       "      <td>νεα δημοκρατια</td>\n",
       "      <td>2019-02-22</td>\n",
       "      <td>6</td>\n",
       "    </tr>\n",
       "    <tr>\n",
       "      <th>1194404</th>\n",
       "      <td>κακλαμανης μιχαηλ νικητας</td>\n",
       "      <td>Αρκεί και το κεντρικό κράτος, κύριε Υπουργέ, ...</td>\n",
       "      <td>νεα δημοκρατια</td>\n",
       "      <td>2019-02-22</td>\n",
       "      <td>101</td>\n",
       "    </tr>\n",
       "    <tr>\n",
       "      <th>1194405</th>\n",
       "      <td>NaN</td>\n",
       "      <td>Μάλιστα, μάλιστα.</td>\n",
       "      <td>βουλη</td>\n",
       "      <td>2019-02-22</td>\n",
       "      <td>2</td>\n",
       "    </tr>\n",
       "    <tr>\n",
       "      <th>1194406</th>\n",
       "      <td>κακλαμανης μιχαηλ νικητας</td>\n",
       "      <td>Με τη συναίνεση του Σώματος και ώρα 11.25΄ λύ...</td>\n",
       "      <td>νεα δημοκρατια</td>\n",
       "      <td>2019-02-22</td>\n",
       "      <td>34</td>\n",
       "    </tr>\n",
       "  </tbody>\n",
       "</table>\n",
       "<p>1194235 rows × 5 columns</p>\n",
       "</div>"
      ],
      "text/plain": [
       "                          member_name  \\\n",
       "0        κρητικος νικολαου παναγιωτης   \n",
       "1        κρητικος νικολαου παναγιωτης   \n",
       "2        κρητικος νικολαου παναγιωτης   \n",
       "3                                 NaN   \n",
       "4        κρητικος νικολαου παναγιωτης   \n",
       "...                               ...   \n",
       "1194402   συντυχακης δανιηλ εμμανουηλ   \n",
       "1194403     κακλαμανης μιχαηλ νικητας   \n",
       "1194404     κακλαμανης μιχαηλ νικητας   \n",
       "1194405                           NaN   \n",
       "1194406     κακλαμανης μιχαηλ νικητας   \n",
       "\n",
       "                                                    speech  \\\n",
       "0         Παρακαλείται ο Γραμματέας κ. Βουλγαράκης να σ...   \n",
       "1         Παρακαλείται ο κύριος Γραμματέας να συνοδεύσε...   \n",
       "2         Κύριοι συνάδελφοι, παρακαλώ τη Βουλή να εξουσ...   \n",
       "3                                        Μάλιστα, μάλιστα.   \n",
       "4         Η Βουλή παρέσχε τη ζητηθείσα εξουσιοδότηση. Μ...   \n",
       "...                                                    ...   \n",
       "1194402   Κύριε Πρόεδρε, οι καταστροφές προφανώς δεν ήτ...   \n",
       "1194403             Ορίστε, κύριε Υπουργέ, έχετε τον λόγο.   \n",
       "1194404   Αρκεί και το κεντρικό κράτος, κύριε Υπουργέ, ...   \n",
       "1194405                                  Μάλιστα, μάλιστα.   \n",
       "1194406   Με τη συναίνεση του Σώματος και ώρα 11.25΄ λύ...   \n",
       "\n",
       "                        political_party sitting_date  totalwords  \n",
       "0        πανελληνιο σοσιαλιστικο κινημα   1989-07-03          43  \n",
       "1        πανελληνιο σοσιαλιστικο κινημα   1989-07-03          81  \n",
       "2        πανελληνιο σοσιαλιστικο κινημα   1989-07-03          17  \n",
       "3                                 βουλη   1989-07-03           2  \n",
       "4        πανελληνιο σοσιαλιστικο κινημα   1989-07-03          37  \n",
       "...                                 ...          ...         ...  \n",
       "1194402     κομμουνιστικο κομμα ελλαδας   2019-02-22         681  \n",
       "1194403                  νεα δημοκρατια   2019-02-22           6  \n",
       "1194404                  νεα δημοκρατια   2019-02-22         101  \n",
       "1194405                           βουλη   2019-02-22           2  \n",
       "1194406                  νεα δημοκρατια   2019-02-22          34  \n",
       "\n",
       "[1194235 rows x 5 columns]"
      ]
     },
     "execution_count": 10,
     "metadata": {
      "tags": []
     },
     "output_type": "execute_result"
    }
   ],
   "source": [
    "parliament_speeches['totalwords'] = [len(x.split()) for x in parliament_speeches['speech'].tolist()]\n",
    "parliament_speeches"
   ]
  },
  {
   "cell_type": "markdown",
   "metadata": {
    "id": "vC5IZWYMTYKl"
   },
   "source": [
    "* This information is also valueble because, as seen below, the political party Βουλη, which is not in fact a political party, based on the average number of words, should be excluded from our analysis because the information that a speech given by this \"political party\" will be insufficient."
   ]
  },
  {
   "cell_type": "code",
   "execution_count": 11,
   "metadata": {
    "colab": {
     "base_uri": "https://localhost:8080/",
     "height": 762
    },
    "id": "hwY2fUHKTYKl",
    "outputId": "280179cf-9520-44ca-9f7d-eaa43e9d362b"
   },
   "outputs": [
    {
     "data": {
      "text/html": [
       "<div>\n",
       "<style scoped>\n",
       "    .dataframe tbody tr th:only-of-type {\n",
       "        vertical-align: middle;\n",
       "    }\n",
       "\n",
       "    .dataframe tbody tr th {\n",
       "        vertical-align: top;\n",
       "    }\n",
       "\n",
       "    .dataframe thead th {\n",
       "        text-align: right;\n",
       "    }\n",
       "</style>\n",
       "<table border=\"1\" class=\"dataframe\">\n",
       "  <thead>\n",
       "    <tr style=\"text-align: right;\">\n",
       "      <th></th>\n",
       "      <th>political_party</th>\n",
       "      <th>totalwords</th>\n",
       "    </tr>\n",
       "  </thead>\n",
       "  <tbody>\n",
       "    <tr>\n",
       "      <th>17</th>\n",
       "      <td>οικολογοι εναλλακτικοι (ομοσπονδια οικολογικων...</td>\n",
       "      <td>429.820847</td>\n",
       "    </tr>\n",
       "    <tr>\n",
       "      <th>7</th>\n",
       "      <td>δημοκρατικη αριστερα</td>\n",
       "      <td>297.431732</td>\n",
       "    </tr>\n",
       "    <tr>\n",
       "      <th>6</th>\n",
       "      <td>δημοκρατικη ανανεωση</td>\n",
       "      <td>290.000000</td>\n",
       "    </tr>\n",
       "    <tr>\n",
       "      <th>9</th>\n",
       "      <td>δημοκρατικο κοινωνικο κινημα</td>\n",
       "      <td>245.130119</td>\n",
       "    </tr>\n",
       "    <tr>\n",
       "      <th>12</th>\n",
       "      <td>κομμουνιστικο κομμα ελλαδας εσωτερικου</td>\n",
       "      <td>241.391089</td>\n",
       "    </tr>\n",
       "    <tr>\n",
       "      <th>13</th>\n",
       "      <td>λαικη ενοτητα</td>\n",
       "      <td>233.710983</td>\n",
       "    </tr>\n",
       "    <tr>\n",
       "      <th>1</th>\n",
       "      <td>ανεξαρτητοι δημοκρατικοι βουλευτες</td>\n",
       "      <td>221.591860</td>\n",
       "    </tr>\n",
       "    <tr>\n",
       "      <th>14</th>\n",
       "      <td>λαικος ορθοδοξος συναγερμος</td>\n",
       "      <td>177.224014</td>\n",
       "    </tr>\n",
       "    <tr>\n",
       "      <th>21</th>\n",
       "      <td>συνασπισμος της αριστερας των κινηματων και τη...</td>\n",
       "      <td>176.989440</td>\n",
       "    </tr>\n",
       "    <tr>\n",
       "      <th>15</th>\n",
       "      <td>λαικος συνδεσος - χρυση αυγη</td>\n",
       "      <td>174.007762</td>\n",
       "    </tr>\n",
       "    <tr>\n",
       "      <th>0</th>\n",
       "      <td>ανεξαρτητοι (εκτος κομματος)</td>\n",
       "      <td>150.448199</td>\n",
       "    </tr>\n",
       "    <tr>\n",
       "      <th>11</th>\n",
       "      <td>κομμουνιστικο κομμα ελλαδας</td>\n",
       "      <td>147.654526</td>\n",
       "    </tr>\n",
       "    <tr>\n",
       "      <th>18</th>\n",
       "      <td>πανελληνιο σοσιαλιστικο κινημα</td>\n",
       "      <td>137.151602</td>\n",
       "    </tr>\n",
       "    <tr>\n",
       "      <th>16</th>\n",
       "      <td>νεα δημοκρατια</td>\n",
       "      <td>134.061338</td>\n",
       "    </tr>\n",
       "    <tr>\n",
       "      <th>19</th>\n",
       "      <td>πολιτικη ανοιξη</td>\n",
       "      <td>131.845745</td>\n",
       "    </tr>\n",
       "    <tr>\n",
       "      <th>20</th>\n",
       "      <td>συνασπισμος ριζοσπαστικης αριστερας</td>\n",
       "      <td>124.960402</td>\n",
       "    </tr>\n",
       "    <tr>\n",
       "      <th>3</th>\n",
       "      <td>ανεξαρτητοι ελληνες εθνικη πατριωτικη δημοκρατ...</td>\n",
       "      <td>124.573266</td>\n",
       "    </tr>\n",
       "    <tr>\n",
       "      <th>4</th>\n",
       "      <td>αντιπολιτευση</td>\n",
       "      <td>123.545455</td>\n",
       "    </tr>\n",
       "    <tr>\n",
       "      <th>8</th>\n",
       "      <td>δημοκρατικη συμπαραταξη (πανελληνιο σοσιαλιστι...</td>\n",
       "      <td>96.127485</td>\n",
       "    </tr>\n",
       "    <tr>\n",
       "      <th>22</th>\n",
       "      <td>το ποταμι</td>\n",
       "      <td>94.565433</td>\n",
       "    </tr>\n",
       "    <tr>\n",
       "      <th>10</th>\n",
       "      <td>ενωση κεντρωων</td>\n",
       "      <td>91.427387</td>\n",
       "    </tr>\n",
       "    <tr>\n",
       "      <th>2</th>\n",
       "      <td>ανεξαρτητοι ελληνες - πανος καμμενος</td>\n",
       "      <td>90.812115</td>\n",
       "    </tr>\n",
       "    <tr>\n",
       "      <th>5</th>\n",
       "      <td>βουλη</td>\n",
       "      <td>5.036795</td>\n",
       "    </tr>\n",
       "  </tbody>\n",
       "</table>\n",
       "</div>"
      ],
      "text/plain": [
       "                                      political_party  totalwords\n",
       "17  οικολογοι εναλλακτικοι (ομοσπονδια οικολογικων...  429.820847\n",
       "7                                δημοκρατικη αριστερα  297.431732\n",
       "6                                δημοκρατικη ανανεωση  290.000000\n",
       "9                        δημοκρατικο κοινωνικο κινημα  245.130119\n",
       "12             κομμουνιστικο κομμα ελλαδας εσωτερικου  241.391089\n",
       "13                                      λαικη ενοτητα  233.710983\n",
       "1                  ανεξαρτητοι δημοκρατικοι βουλευτες  221.591860\n",
       "14                        λαικος ορθοδοξος συναγερμος  177.224014\n",
       "21  συνασπισμος της αριστερας των κινηματων και τη...  176.989440\n",
       "15                       λαικος συνδεσος - χρυση αυγη  174.007762\n",
       "0                        ανεξαρτητοι (εκτος κομματος)  150.448199\n",
       "11                        κομμουνιστικο κομμα ελλαδας  147.654526\n",
       "18                     πανελληνιο σοσιαλιστικο κινημα  137.151602\n",
       "16                                     νεα δημοκρατια  134.061338\n",
       "19                                    πολιτικη ανοιξη  131.845745\n",
       "20                συνασπισμος ριζοσπαστικης αριστερας  124.960402\n",
       "3   ανεξαρτητοι ελληνες εθνικη πατριωτικη δημοκρατ...  124.573266\n",
       "4                                       αντιπολιτευση  123.545455\n",
       "8   δημοκρατικη συμπαραταξη (πανελληνιο σοσιαλιστι...   96.127485\n",
       "22                                          το ποταμι   94.565433\n",
       "10                                     ενωση κεντρωων   91.427387\n",
       "2                ανεξαρτητοι ελληνες - πανος καμμενος   90.812115\n",
       "5                                               βουλη    5.036795"
      ]
     },
     "execution_count": 11,
     "metadata": {
      "tags": []
     },
     "output_type": "execute_result"
    }
   ],
   "source": [
    "pps= parliament_speeches.groupby('political_party')['totalwords'].mean().reset_index()\n",
    "pps=pps.sort_values(by='totalwords', ascending=False)\n",
    "pps"
   ]
  },
  {
   "cell_type": "markdown",
   "metadata": {
    "id": "kyFyo5MkTYKl"
   },
   "source": [
    "* We see that total words per speech average at around 132 words."
   ]
  },
  {
   "cell_type": "code",
   "execution_count": 12,
   "metadata": {
    "colab": {
     "base_uri": "https://localhost:8080/"
    },
    "id": "cQJu5NxSTYKm",
    "outputId": "d1d0c4ec-29fc-4193-e8fc-88076931b1b5"
   },
   "outputs": [
    {
     "data": {
      "text/plain": [
       "132.54924449543012"
      ]
     },
     "execution_count": 12,
     "metadata": {
      "tags": []
     },
     "output_type": "execute_result"
    }
   ],
   "source": [
    "parliament_speeches[\"totalwords\"].mean()"
   ]
  },
  {
   "cell_type": "markdown",
   "metadata": {
    "id": "frG_sLw3TYKm"
   },
   "source": [
    "## What a speech looks like"
   ]
  },
  {
   "cell_type": "markdown",
   "metadata": {
    "id": "xt7UH48bTYKm"
   },
   "source": [
    "* Below we see a randomly selected speech to get anidea of what a speech may look like."
   ]
  },
  {
   "cell_type": "code",
   "execution_count": null,
   "metadata": {
    "id": "GvjztH7pTYKm",
    "outputId": "24408396-9027-4938-c2f7-4c3128e617f5"
   },
   "outputs": [
    {
     "data": {
      "text/plain": [
       "\"Εν πάση περιπτώσει, σας διαβεβαιώ εδώ και εξ ιδίας εμπειρίας, ότι το σύνολο των ομογενών μας δυστυχώς δεν έχουν καμία σχέση με την αγροτική παραγωγή. Είναι αστικοί πληθυσμοί και γνωρίζετε τον τρόπο με τον οποίο ήταν οργανωμένοι αυτοί οι αστικοί πληθυσμοί και τον τρόπο με τον οποίο εδίδοντο οι ειδικότητες και τα επαγγέλματα στην τέως Σοβιετική 'Ενωση. Τώρα τι να συζητήσουμε; Επομένως, είναι πάρα πολύ δύσκολο το εγχείρημα. Εκείνο το οποίο αργότερα θα σας αναλύσω στη δευτερολογία μου είναι το τι κάνει η Κυβέρνηση για την επαγγελματική εκπαίδευση και κατάρτιση.Το τελευταίο που θέλω να θίξω, κύριε συνάδελφε, είναι ότι δενπρέπει να επαίρεσθε για το πώς αντιμετώπισαν συνολικά οι τότε κυβερνήσεις -αναφέρομαι το '65 έως το 1980- το πρώτο κύμα της παλιννόστησης. Δεκαπέντε χιλιάδες μόνον ομογενείς εγκαταστάθηκαν στην ευρύτερηπεριοχή του Μενιδίου. Και σας λέγω υπευθύνως -και θα ήθελα αυτό να το ακούσετε- ότι δεν δικαιούσθε να επαίρεσθε για εκείνη την περίοδο -κανείς δεν δικαιούται να επαίρεται- διότι το μοναδικό επίδομα που έλαβαν εκείνοι οι ομογενείς, είναι διακόσιες πενήντα δραχμές και για μία μικρή περίοδο. Και ο κ. Βρεττός, που ήταν τότε δήμαρχος, γνωρίζει τους αγώνες που έκανεγια να μπορέσουν να αποκτήσουν στέγη, παράνομα στην αρχή και αργότερα νομιμοποιηθείσα στέγη, με αγώνες και με προβλήματα, χωρίς καμία συμβολή του κράτους. Δεν υπήρχε πολιτική του κράτους την περίοδο εκείνη.Η πολιτική της αποκατάστασης ολοκληρώνεται με το υπεύθυνο και πολύσημαντικό νομοθέτημα του 2000 και με την πολιτική που ασκήσαμε εμείς, από τη δεκαετία του '80, πολιτική η οποία -προσέξτε- δεν είναι χίλια τριακόσια τα σπίτια, κύριε Στυλιανίδη, που έλεγε η κα Φουντουκίδου. Χίλια τριακόσια επί Νέας Δημοκρατίας; 'Ηταν εκατόν πενήντα. Τα χίλια εκατόν ογδόντα χτίστηκαν και παρεδόθησαν χωρίς να επαίρομαι επ' αυτού ...\""
      ]
     },
     "execution_count": 67,
     "metadata": {
      "tags": []
     },
     "output_type": "execute_result"
    }
   ],
   "source": [
    "from random import randint\n",
    "parliament_speeches.iloc[randint(0,parliament_speeches.shape[0])]['speech']"
   ]
  },
  {
   "cell_type": "markdown",
   "metadata": {
    "id": "Ye-GmrANTYKn"
   },
   "source": [
    "# Classification without Neural Networks"
   ]
  },
  {
   "cell_type": "markdown",
   "metadata": {
    "id": "tXStfhHoTYKn"
   },
   "source": [
    "* Before we begin preprocessing our data, it is important to focus on a specific subset of our data that may produce the best results."
   ]
  },
  {
   "cell_type": "markdown",
   "metadata": {
    "id": "VJDacnAXTYKn"
   },
   "source": [
    "* We must first make sure that there are no spaces in the beginning and end of each speech."
   ]
  },
  {
   "cell_type": "markdown",
   "metadata": {
    "id": "bue_R4egTYKn"
   },
   "source": [
    "## spaCy Prepocessing"
   ]
  },
  {
   "cell_type": "markdown",
   "metadata": {
    "id": "AqM2hCrITYKn"
   },
   "source": [
    "* An important step before moving on to creating a classifier with scikit is to proprocess our data"
   ]
  },
  {
   "cell_type": "code",
   "execution_count": null,
   "metadata": {
    "id": "pWSOlbF4TYKn",
    "outputId": "8b571e1d-4d94-4f7d-d20f-6970a52b6be7"
   },
   "outputs": [
    {
     "name": "stderr",
     "output_type": "stream",
     "text": [
      "<ipython-input-66-26e6f34b08ff>:1: SettingWithCopyWarning: \n",
      "A value is trying to be set on a copy of a slice from a DataFrame.\n",
      "Try using .loc[row_indexer,col_indexer] = value instead\n",
      "\n",
      "See the caveats in the documentation: https://pandas.pydata.org/pandas-docs/stable/user_guide/indexing.html#returning-a-view-versus-a-copy\n",
      "  parliament_speeches['speech'] = parliament_speeches['speech'].apply(lambda x: x.strip())\n"
     ]
    }
   ],
   "source": [
    "parliament_speeches['speech'] = parliament_speeches['speech'].apply(lambda x: x.strip())"
   ]
  },
  {
   "cell_type": "code",
   "execution_count": null,
   "metadata": {
    "id": "fBAntitrTYKo"
   },
   "outputs": [],
   "source": [
    "import spacy\n",
    "from spacy.lang.el import Greek\n",
    "from spacy.lang.el.stop_words import STOP_WORDS\n",
    "import string"
   ]
  },
  {
   "cell_type": "markdown",
   "metadata": {
    "id": "z5HTWMoFTYKo"
   },
   "source": [
    "* The three important preprocessing rules that we apply on our dataset is:"
   ]
  },
  {
   "cell_type": "markdown",
   "metadata": {
    "id": "pDY4UebWTYKo"
   },
   "source": [
    "* - Lemmatization"
   ]
  },
  {
   "cell_type": "markdown",
   "metadata": {
    "id": "HpGMBFBuTYKo"
   },
   "source": [
    "* - Removal of stopwords"
   ]
  },
  {
   "cell_type": "markdown",
   "metadata": {
    "id": "MZ0Wgl_pTYKo"
   },
   "source": [
    "* - Removal of puncuations and numbers"
   ]
  },
  {
   "cell_type": "code",
   "execution_count": null,
   "metadata": {
    "id": "cg360Cn8TYKp"
   },
   "outputs": [],
   "source": [
    "def spacy_preprocesing(sentence):\n",
    "    speech = nlp(sentence)\n",
    "    \n",
    "    #Lemmatize each word\n",
    "    speech = [ word.lemma_.lower().strip() if word.lemma_ != \"-PRON-\" else word.lower_ for word in speech]\n",
    "    \n",
    "    # Removing stop words\n",
    "    speech = [ word for word in speech if word not in stop_words and word not in punctuations and not word.isdigit()]\n",
    "    \n",
    "    #Attaching all words back together to form our new processed sentence\n",
    "    speech =   ' '.join(str(x) for x in speech) \n",
    "    \n",
    "    # return preprocessed list of tokens\n",
    "    return speech"
   ]
  },
  {
   "cell_type": "markdown",
   "metadata": {
    "id": "6B71hlxATYKq"
   },
   "source": [
    "* We apply the preprocessing function on our speech column."
   ]
  },
  {
   "cell_type": "code",
   "execution_count": null,
   "metadata": {
    "id": "UhQbiCEBTYKq"
   },
   "outputs": [],
   "source": [
    "punctuations = string.punctuation\n",
    "nlp = spacy.load('el_core_news_lg')\n",
    "stop_words = list(spacy.lang.el.stop_words.STOP_WORDS)\n",
    "parser = Greek()\n",
    "\n",
    "parliament_speeches['speech']=parliament_speeches['speech'].apply(spacy_preprocesing)"
   ]
  },
  {
   "cell_type": "markdown",
   "metadata": {
    "id": "y_3gzDSCTYKq"
   },
   "source": [
    "* We then export our new preprocessed dataset to a CSV so that if, for any reason, our notebook stops working past this point, we needn't wait for the preprocessing procedure to restart."
   ]
  },
  {
   "cell_type": "code",
   "execution_count": null,
   "metadata": {
    "id": "ophxmAroTYKq"
   },
   "outputs": [],
   "source": [
    "parliament_speeches.to_csv('spacy_speeches.csv', index=False)"
   ]
  },
  {
   "cell_type": "markdown",
   "metadata": {
    "id": "F5Hq6DOXnsWP"
   },
   "source": [
    "* Read the CSV we just exported"
   ]
  },
  {
   "cell_type": "code",
   "execution_count": 12,
   "metadata": {
    "id": "BOo3uFCbTYKr"
   },
   "outputs": [],
   "source": [
    "tester = pd.read_csv('spacy_speeches.csv')"
   ]
  },
  {
   "cell_type": "markdown",
   "metadata": {
    "id": "Pfv5PZUTnwHL"
   },
   "source": [
    "* Exclude all political parties with less than 10.000 speeches and clear dataset from NaN values"
   ]
  },
  {
   "cell_type": "code",
   "execution_count": 13,
   "metadata": {
    "colab": {
     "base_uri": "https://localhost:8080/",
     "height": 586
    },
    "id": "CBkYLgbvTYKr",
    "outputId": "b4192d6c-1810-463a-e5fa-6b78e26d6e75"
   },
   "outputs": [
    {
     "data": {
      "text/html": [
       "<div>\n",
       "<style scoped>\n",
       "    .dataframe tbody tr th:only-of-type {\n",
       "        vertical-align: middle;\n",
       "    }\n",
       "\n",
       "    .dataframe tbody tr th {\n",
       "        vertical-align: top;\n",
       "    }\n",
       "\n",
       "    .dataframe thead th {\n",
       "        text-align: right;\n",
       "    }\n",
       "</style>\n",
       "<table border=\"1\" class=\"dataframe\">\n",
       "  <thead>\n",
       "    <tr style=\"text-align: right;\">\n",
       "      <th></th>\n",
       "      <th>political_party</th>\n",
       "      <th>speech</th>\n",
       "      <th>sitting_date</th>\n",
       "    </tr>\n",
       "  </thead>\n",
       "  <tbody>\n",
       "    <tr>\n",
       "      <th>492726</th>\n",
       "      <td>κομμουνιστικο κομμα ελλαδας</td>\n",
       "      <td>δύο ενότητα κύριε υπουργέ σήμερα</td>\n",
       "      <td>2004-01-07</td>\n",
       "    </tr>\n",
       "    <tr>\n",
       "      <th>492727</th>\n",
       "      <td>πανελληνιο σοσιαλιστικο κινημα</td>\n",
       "      <td>ενότητα σήμερα δεύτερη τροπολογίε υπάρχω</td>\n",
       "      <td>2004-01-07</td>\n",
       "    </tr>\n",
       "    <tr>\n",
       "      <th>492728</th>\n",
       "      <td>κομμουνιστικο κομμα ελλαδας</td>\n",
       "      <td>πάρτε κύριε πρόεδρε σύμβαση tvx ολόκληρος νομο...</td>\n",
       "      <td>2004-01-07</td>\n",
       "    </tr>\n",
       "    <tr>\n",
       "      <th>492729</th>\n",
       "      <td>πανελληνιο σοσιαλιστικο κινημα</td>\n",
       "      <td>ορίστε κύριε βλαχόπουλε λόγο</td>\n",
       "      <td>2004-01-07</td>\n",
       "    </tr>\n",
       "    <tr>\n",
       "      <th>492730</th>\n",
       "      <td>πανελληνιο σοσιαλιστικο κινημα</td>\n",
       "      <td>κύριε πρόεδρε συμφωνώ πρότασή συζητήσω άρθρο δ...</td>\n",
       "      <td>2004-01-07</td>\n",
       "    </tr>\n",
       "    <tr>\n",
       "      <th>...</th>\n",
       "      <td>...</td>\n",
       "      <td>...</td>\n",
       "      <td>...</td>\n",
       "    </tr>\n",
       "    <tr>\n",
       "      <th>1194401</th>\n",
       "      <td>νεα δημοκρατια</td>\n",
       "      <td>υπόλοιπος δευτερολογία κύριε συντυχάκη λόγο</td>\n",
       "      <td>2019-02-22</td>\n",
       "    </tr>\n",
       "    <tr>\n",
       "      <th>1194402</th>\n",
       "      <td>κομμουνιστικο κομμα ελλαδας</td>\n",
       "      <td>κύριε πρόεδρε καταστροφή προφανώς αναπάντεχος ...</td>\n",
       "      <td>2019-02-22</td>\n",
       "    </tr>\n",
       "    <tr>\n",
       "      <th>1194403</th>\n",
       "      <td>νεα δημοκρατια</td>\n",
       "      <td>ορίστε κύριε υπουργέ λόγο</td>\n",
       "      <td>2019-02-22</td>\n",
       "    </tr>\n",
       "    <tr>\n",
       "      <th>1194404</th>\n",
       "      <td>νεα δημοκρατια</td>\n",
       "      <td>αρκώ κεντρικό κράτος κύριε υπουργέ δίνω χρήματ...</td>\n",
       "      <td>2019-02-22</td>\n",
       "    </tr>\n",
       "    <tr>\n",
       "      <th>1194406</th>\n",
       "      <td>νεα δημοκρατια</td>\n",
       "      <td>συναίνεση σώμα ώρα 11.25΄ λύομαι συνεδρίαση ημ...</td>\n",
       "      <td>2019-02-22</td>\n",
       "    </tr>\n",
       "  </tbody>\n",
       "</table>\n",
       "<p>632726 rows × 3 columns</p>\n",
       "</div>"
      ],
      "text/plain": [
       "                        political_party  \\\n",
       "492726      κομμουνιστικο κομμα ελλαδας   \n",
       "492727   πανελληνιο σοσιαλιστικο κινημα   \n",
       "492728      κομμουνιστικο κομμα ελλαδας   \n",
       "492729   πανελληνιο σοσιαλιστικο κινημα   \n",
       "492730   πανελληνιο σοσιαλιστικο κινημα   \n",
       "...                                 ...   \n",
       "1194401                  νεα δημοκρατια   \n",
       "1194402     κομμουνιστικο κομμα ελλαδας   \n",
       "1194403                  νεα δημοκρατια   \n",
       "1194404                  νεα δημοκρατια   \n",
       "1194406                  νεα δημοκρατια   \n",
       "\n",
       "                                                    speech sitting_date  \n",
       "492726                    δύο ενότητα κύριε υπουργέ σήμερα   2004-01-07  \n",
       "492727            ενότητα σήμερα δεύτερη τροπολογίε υπάρχω   2004-01-07  \n",
       "492728   πάρτε κύριε πρόεδρε σύμβαση tvx ολόκληρος νομο...   2004-01-07  \n",
       "492729                        ορίστε κύριε βλαχόπουλε λόγο   2004-01-07  \n",
       "492730   κύριε πρόεδρε συμφωνώ πρότασή συζητήσω άρθρο δ...   2004-01-07  \n",
       "...                                                    ...          ...  \n",
       "1194401        υπόλοιπος δευτερολογία κύριε συντυχάκη λόγο   2019-02-22  \n",
       "1194402  κύριε πρόεδρε καταστροφή προφανώς αναπάντεχος ...   2019-02-22  \n",
       "1194403                          ορίστε κύριε υπουργέ λόγο   2019-02-22  \n",
       "1194404  αρκώ κεντρικό κράτος κύριε υπουργέ δίνω χρήματ...   2019-02-22  \n",
       "1194406  συναίνεση σώμα ώρα 11.25΄ λύομαι συνεδρίαση ημ...   2019-02-22  \n",
       "\n",
       "[632726 rows x 3 columns]"
      ]
     },
     "execution_count": 13,
     "metadata": {},
     "output_type": "execute_result"
    }
   ],
   "source": [
    "komata = ['βουλη','αντιπολιτευση','λαικη ενοτητα','συνασπισμος της αριστερας των κινηματων και της οικολογιας','ανεξαρτητοι δημοκρατικοι βουλευτες','δημοκρατικη αριστερα','ανεξαρτητοι ελληνες εθνικη πατριωτικη δημοκρατικη συμμαχια']\n",
    "tester=tester[(tester['sitting_date']>'2004-01-01')]\n",
    "tester = tester[(~tester['political_party'].isin(komata))]\n",
    "tester = tester[~tester['speech'].isna()]\n",
    "tester = tester[~tester['political_party'].isna()]\n",
    "tester"
   ]
  },
  {
   "cell_type": "markdown",
   "metadata": {
    "id": "U-l0QW14TYKr"
   },
   "source": [
    "* We split our data in to training and testing"
   ]
  },
  {
   "cell_type": "code",
   "execution_count": 14,
   "metadata": {
    "id": "i2759Ve1TYKs"
   },
   "outputs": [],
   "source": [
    "train, test = train_test_split(tester, test_size=0.20, random_state=23)"
   ]
  },
  {
   "cell_type": "markdown",
   "metadata": {
    "id": "getEtN6WTYKs"
   },
   "source": [
    "* After trying multiple classifiers, MultinomialNB and LinearSVC proved to be the best. Let's see how they went."
   ]
  },
  {
   "cell_type": "markdown",
   "metadata": {
    "id": "4di-cgFeTYKs"
   },
   "source": [
    "## Multinomial Naive Bayes"
   ]
  },
  {
   "cell_type": "markdown",
   "metadata": {
    "id": "v9bQoNxSTYKt"
   },
   "source": [
    "* Our first classifier is Naive Bayes"
   ]
  },
  {
   "cell_type": "markdown",
   "metadata": {
    "id": "L_q8fPIXTYKt"
   },
   "source": [
    "* Below, we have created a GridSearch with 5-fold cross validation."
   ]
  },
  {
   "cell_type": "code",
   "execution_count": null,
   "metadata": {
    "id": "Z4J1tGeVTYKt"
   },
   "outputs": [],
   "source": [
    "text_clf = Pipeline([('tfidf', TfidfVectorizer()),\n",
    "                     ('clf',MultinomialNB())\n",
    "                    ])\n",
    "\n",
    "parameters = {\n",
    "        'tfidf__ngram_range': [(1, 1), (1, 2)],\n",
    "        'tfidf__max_df': (0.25, 0.5, 0.75, 1.0),\n",
    "        'clf__alpha': (1e-2, 1e-3, 1e-1),\n",
    "    }\n",
    "gs_clf = GridSearchCV(text_clf, param_grid = parameters, n_jobs=2, cv=5,verbose=10)"
   ]
  },
  {
   "cell_type": "code",
   "execution_count": null,
   "metadata": {
    "id": "xv838obXTYKt",
    "outputId": "f56446bb-064a-4508-b070-f38e3e66d651"
   },
   "outputs": [
    {
     "name": "stdout",
     "output_type": "stream",
     "text": [
      "Fitting 5 folds for each of 24 candidates, totalling 120 fits\n"
     ]
    },
    {
     "name": "stderr",
     "output_type": "stream",
     "text": [
      "[Parallel(n_jobs=2)]: Using backend LokyBackend with 2 concurrent workers.\n",
      "[Parallel(n_jobs=2)]: Done   1 tasks      | elapsed:  1.4min\n",
      "[Parallel(n_jobs=2)]: Done   4 tasks      | elapsed:  2.6min\n",
      "[Parallel(n_jobs=2)]: Done   9 tasks      | elapsed: 15.9min\n",
      "[Parallel(n_jobs=2)]: Done  14 tasks      | elapsed: 21.2min\n",
      "[Parallel(n_jobs=2)]: Done  21 tasks      | elapsed: 36.9min\n",
      "[Parallel(n_jobs=2)]: Done  28 tasks      | elapsed: 50.5min\n",
      "[Parallel(n_jobs=2)]: Done  37 tasks      | elapsed: 67.7min\n",
      "[Parallel(n_jobs=2)]: Done  46 tasks      | elapsed: 85.5min\n",
      "[Parallel(n_jobs=2)]: Done  57 tasks      | elapsed: 110.8min\n",
      "[Parallel(n_jobs=2)]: Done  68 tasks      | elapsed: 136.5min\n",
      "[Parallel(n_jobs=2)]: Done  81 tasks      | elapsed: 158.8min\n",
      "[Parallel(n_jobs=2)]: Done  94 tasks      | elapsed: 184.4min\n",
      "[Parallel(n_jobs=2)]: Done 109 tasks      | elapsed: 225.8min\n",
      "[Parallel(n_jobs=2)]: Done 120 out of 120 | elapsed: 254.0min finished\n"
     ]
    },
    {
     "name": "stdout",
     "output_type": "stream",
     "text": [
      "Pipeline(steps=[('tfidf', TfidfVectorizer(max_df=0.25, ngram_range=(1, 2))),\n",
      "                ('clf', MultinomialNB(alpha=0.001))])\n"
     ]
    }
   ],
   "source": [
    "gs_clf = gs_clf.fit(train.speech, train.political_party)\n",
    "predicted = gs_clf.predict(test.speech)\n",
    "print(gs_clf.best_estimator_)"
   ]
  },
  {
   "cell_type": "code",
   "execution_count": null,
   "metadata": {
    "id": "HaWBoedhTYKt",
    "outputId": "88ad6140-6220-4162-ff66-6a29a3fcbb4c"
   },
   "outputs": [
    {
     "data": {
      "text/plain": [
       "Pipeline(steps=[('tfidf', TfidfVectorizer(max_df=0.25, ngram_range=(1, 2))),\n",
       "                ('clf', MultinomialNB(alpha=0.0001))])"
      ]
     },
     "execution_count": 24,
     "metadata": {
      "tags": []
     },
     "output_type": "execute_result"
    }
   ],
   "source": [
    "text_clf = Pipeline([('tfidf', TfidfVectorizer(max_df=0.25, ngram_range=(1, 2))),\n",
    "                        ('clf', MultinomialNB(alpha=0.0001))])\n",
    "\n",
    "text_clf.fit(train['speech'], train['political_party'])"
   ]
  },
  {
   "cell_type": "code",
   "execution_count": null,
   "metadata": {
    "id": "kOEp8IFMTYKu"
   },
   "outputs": [],
   "source": [
    "predicted = text_clf.predict(test['speech'])"
   ]
  },
  {
   "cell_type": "code",
   "execution_count": null,
   "metadata": {
    "id": "zfP8eXDSTYKu",
    "outputId": "de3a135a-a6bf-4682-e13e-955a701507cb"
   },
   "outputs": [
    {
     "name": "stdout",
     "output_type": "stream",
     "text": [
      "                                                                                 precision    recall  f1-score   support\n",
      "\n",
      "                                                   ανεξαρτητοι (εκτος κομματος)       0.25      0.04      0.06      4375\n",
      "                                           ανεξαρτητοι ελληνες - πανος καμμενος       0.27      0.20      0.23      2705\n",
      "δημοκρατικη συμπαραταξη (πανελληνιο σοσιαλιστικο κινημα - δημοκρατικη αριστερα)       0.33      0.11      0.17      4143\n",
      "                                                                 ενωση κεντρωων       0.34      0.13      0.19      1446\n",
      "                                                    κομμουνιστικο κομμα ελλαδας       0.45      0.49      0.47     11303\n",
      "                                                    λαικος ορθοδοξος συναγερμος       0.40      0.13      0.19      4696\n",
      "                                                   λαικος συνδεσος - χρυση αυγη       0.62      0.19      0.29      2319\n",
      "                                                                 νεα δημοκρατια       0.50      0.74      0.60     44244\n",
      "                                                 πανελληνιο σοσιαλιστικο κινημα       0.46      0.39      0.42     25921\n",
      "                                            συνασπισμος ριζοσπαστικης αριστερας       0.44      0.35      0.39     24316\n",
      "                                                                      το ποταμι       0.22      0.03      0.05      1078\n",
      "\n",
      "                                                                       accuracy                           0.47    126546\n",
      "                                                                      macro avg       0.39      0.25      0.28    126546\n",
      "                                                                   weighted avg       0.45      0.47      0.44    126546\n",
      "\n"
     ]
    }
   ],
   "source": [
    "print(metrics.classification_report(test['political_party'], predicted,zero_division=1))"
   ]
  },
  {
   "cell_type": "markdown",
   "metadata": {
    "id": "BMZfm1A3TYKv"
   },
   "source": [
    "## Linear SVC"
   ]
  },
  {
   "cell_type": "code",
   "execution_count": null,
   "metadata": {
    "id": "EF5Clr9BTYKv"
   },
   "outputs": [],
   "source": [
    "text_clf = Pipeline([('tfidf', TfidfVectorizer()),\n",
    "                     ('clf',LinearSVC())\n",
    "                    ])\n",
    "parameters = {\n",
    "        'tfidf__ngram_range': [(1, 1), (1, 2)],\n",
    "        'tfidf__max_df': (0.25, 0.5, 0.75),\n",
    "        'clf__C': (0.75,1,1.5),\n",
    "        'clf__tol': (1e-1,1e-2,1e-3)\n",
    "    }\n",
    "gs_clf = GridSearchCV(text_clf, param_grid = parameters, n_jobs=2, cv=3,verbose=10)"
   ]
  },
  {
   "cell_type": "code",
   "execution_count": null,
   "metadata": {
    "id": "hOWsGgoSTYKv",
    "outputId": "5b0b21b0-93a1-4351-9e9d-6d0b980e9ea5"
   },
   "outputs": [
    {
     "name": "stdout",
     "output_type": "stream",
     "text": [
      "Fitting 3 folds for each of 54 candidates, totalling 162 fits\n"
     ]
    },
    {
     "name": "stderr",
     "output_type": "stream",
     "text": [
      "[Parallel(n_jobs=2)]: Using backend LokyBackend with 2 concurrent workers.\n",
      "[Parallel(n_jobs=2)]: Done   1 tasks      | elapsed:  2.4min\n",
      "[Parallel(n_jobs=2)]: Done   4 tasks      | elapsed: 11.1min\n",
      "[Parallel(n_jobs=2)]: Done   9 tasks      | elapsed: 22.0min\n",
      "[Parallel(n_jobs=2)]: Done  14 tasks      | elapsed: 38.0min\n",
      "[Parallel(n_jobs=2)]: Done  21 tasks      | elapsed: 54.4min\n",
      "[Parallel(n_jobs=2)]: Done  28 tasks      | elapsed: 86.1min\n",
      "[Parallel(n_jobs=2)]: Done  37 tasks      | elapsed: 115.5min\n",
      "[Parallel(n_jobs=2)]: Done  46 tasks      | elapsed: 147.3min\n",
      "[Parallel(n_jobs=2)]: Done  57 tasks      | elapsed: 178.8min\n",
      "[Parallel(n_jobs=2)]: Done  68 tasks      | elapsed: 217.2min\n",
      "[Parallel(n_jobs=2)]: Done  81 tasks      | elapsed: 259.5min\n",
      "[Parallel(n_jobs=2)]: Done  94 tasks      | elapsed: 315.8min\n",
      "[Parallel(n_jobs=2)]: Done 109 tasks      | elapsed: 366.2min\n",
      "[Parallel(n_jobs=2)]: Done 124 tasks      | elapsed: 417.2min\n",
      "[Parallel(n_jobs=2)]: Done 141 tasks      | elapsed: 477.1min\n",
      "[Parallel(n_jobs=2)]: Done 158 tasks      | elapsed: 552.8min\n",
      "[Parallel(n_jobs=2)]: Done 162 out of 162 | elapsed: 577.1min finished\n"
     ]
    },
    {
     "name": "stdout",
     "output_type": "stream",
     "text": [
      "Pipeline(steps=[('tfidf', TfidfVectorizer(max_df=0.5, ngram_range=(1, 2))),\n",
      "                ('clf', LinearSVC(C=0.75, tol=0.1))])\n"
     ]
    }
   ],
   "source": [
    "gs_clf = gs_clf.fit(train.speech, train.political_party)\n",
    "predicted = gs_clf.predict(test.speech)\n",
    "print(gs_clf.best_estimator_)"
   ]
  },
  {
   "cell_type": "code",
   "execution_count": null,
   "metadata": {
    "id": "hxWBjwavTYKw",
    "outputId": "1b89d5f3-aa9d-4963-862c-f43989327351"
   },
   "outputs": [
    {
     "data": {
      "text/plain": [
       "Pipeline(steps=[('tfidf', TfidfVectorizer(max_df=0.5, ngram_range=(1, 2))),\n",
       "                ('clf', LinearSVC(C=0.75, tol=0.1))])"
      ]
     },
     "execution_count": 27,
     "metadata": {
      "tags": []
     },
     "output_type": "execute_result"
    }
   ],
   "source": [
    "text_clf = Pipeline([('tfidf', TfidfVectorizer(max_df=0.5, ngram_range=(1, 2))),\n",
    "                     ('clf', LinearSVC(C=0.75, tol=0.1))])\n",
    "\n",
    "text_clf.fit(train['speech'], train['political_party'])"
   ]
  },
  {
   "cell_type": "code",
   "execution_count": null,
   "metadata": {
    "id": "hBO6jnaMTYKx"
   },
   "outputs": [],
   "source": [
    "predicted = text_clf.predict(test['speech'])"
   ]
  },
  {
   "cell_type": "code",
   "execution_count": null,
   "metadata": {
    "id": "1djHYpKgTYKx",
    "outputId": "847a26c4-fc59-4ae0-89ce-d0e60875d5f1"
   },
   "outputs": [
    {
     "name": "stdout",
     "output_type": "stream",
     "text": [
      "                                                                                 precision    recall  f1-score   support\n",
      "\n",
      "                                                   ανεξαρτητοι (εκτος κομματος)       0.27      0.10      0.14      4375\n",
      "                                           ανεξαρτητοι ελληνες - πανος καμμενος       0.47      0.11      0.18      2705\n",
      "δημοκρατικη συμπαραταξη (πανελληνιο σοσιαλιστικο κινημα - δημοκρατικη αριστερα)       0.49      0.13      0.20      4143\n",
      "                                                                 ενωση κεντρωων       0.61      0.14      0.22      1446\n",
      "                                                    κομμουνιστικο κομμα ελλαδας       0.47      0.55      0.51     11303\n",
      "                                                    λαικος ορθοδοξος συναγερμος       0.60      0.21      0.31      4696\n",
      "                                                   λαικος συνδεσος - χρυση αυγη       0.72      0.23      0.35      2319\n",
      "                                                                 νεα δημοκρατια       0.53      0.76      0.62     44244\n",
      "                                                 πανελληνιο σοσιαλιστικο κινημα       0.50      0.45      0.47     25921\n",
      "                                            συνασπισμος ριζοσπαστικης αριστερας       0.49      0.41      0.45     24316\n",
      "                                                                      το ποταμι       0.36      0.03      0.05      1078\n",
      "\n",
      "                                                                       accuracy                           0.51    126546\n",
      "                                                                      macro avg       0.50      0.28      0.32    126546\n",
      "                                                                   weighted avg       0.50      0.51      0.48    126546\n",
      "\n"
     ]
    }
   ],
   "source": [
    "print(metrics.classification_report(test['political_party'], predicted,zero_division=1))"
   ]
  },
  {
   "cell_type": "markdown",
   "metadata": {
    "id": "ju0UO-NaTYKy"
   },
   "source": [
    "## Linear SVC with weights"
   ]
  },
  {
   "cell_type": "markdown",
   "metadata": {
    "id": "qMuWUtyNTYKy"
   },
   "source": [
    "* Another interesting approach would be to add weights to the 3 most popular political parties"
   ]
  },
  {
   "cell_type": "markdown",
   "metadata": {
    "id": "gNpUQg7cTYKy"
   },
   "source": [
    "* Using the same parameters that were found to be the best in the GridSearch above, we just add class_weights to LinearSVC"
   ]
  },
  {
   "cell_type": "code",
   "execution_count": null,
   "metadata": {
    "id": "oUj6QnCwTYKy",
    "outputId": "d3dad7f0-22cd-4265-bb71-a7b1074a5f65"
   },
   "outputs": [
    {
     "data": {
      "text/plain": [
       "Pipeline(steps=[('tfidf', TfidfVectorizer(max_df=0.5, ngram_range=(1, 2))),\n",
       "                ('clf',\n",
       "                 LinearSVC(C=0.75,\n",
       "                           class_weight={'νεα δημοκρατια': 10,\n",
       "                                         'πανελληνιο σοσιαλιστικο κινημα': 6,\n",
       "                                         'συνασπισμος ριζοσπαστικης αριστερας': 3},\n",
       "                           tol=0.1))])"
      ]
     },
     "execution_count": 5,
     "metadata": {
      "tags": []
     },
     "output_type": "execute_result"
    }
   ],
   "source": [
    "param = {'νεα δημοκρατια':10,'πανελληνιο σοσιαλιστικο κινημα':6,'συνασπισμος ριζοσπαστικης αριστερας':3}\n",
    "\n",
    "text_clf = Pipeline([('tfidf', TfidfVectorizer(max_df=0.5, ngram_range=(1, 2))),\n",
    "                        ('clf', LinearSVC(C=0.75, tol=0.1,class_weight=param))])\n",
    "\n",
    "text_clf.fit(train['speech'], train['political_party'])"
   ]
  },
  {
   "cell_type": "code",
   "execution_count": null,
   "metadata": {
    "id": "hVWtu7F3TYKz"
   },
   "outputs": [],
   "source": [
    "predicted = text_clf.predict(test['speech'])"
   ]
  },
  {
   "cell_type": "code",
   "execution_count": null,
   "metadata": {
    "id": "TrgWGmW_TYKz",
    "outputId": "b436e820-6197-41a2-e3a1-52953f5a96a5"
   },
   "outputs": [
    {
     "name": "stdout",
     "output_type": "stream",
     "text": [
      "                                                                                 precision    recall  f1-score   support\n",
      "\n",
      "                                                   ανεξαρτητοι (εκτος κομματος)       0.55      0.03      0.06      4375\n",
      "                                           ανεξαρτητοι ελληνες - πανος καμμενος       0.59      0.05      0.09      2705\n",
      "δημοκρατικη συμπαραταξη (πανελληνιο σοσιαλιστικο κινημα - δημοκρατικη αριστερα)       0.67      0.09      0.15      4143\n",
      "                                                                 ενωση κεντρωων       0.77      0.09      0.16      1446\n",
      "                                                    κομμουνιστικο κομμα ελλαδας       0.79      0.20      0.32     11303\n",
      "                                                    λαικος ορθοδοξος συναγερμος       0.76      0.16      0.26      4696\n",
      "                                                   λαικος συνδεσος - χρυση αυγη       0.83      0.19      0.31      2319\n",
      "                                                                 νεα δημοκρατια       0.49      0.81      0.61     44244\n",
      "                                                 πανελληνιο σοσιαλιστικο κινημα       0.48      0.44      0.46     25921\n",
      "                                            συνασπισμος ριζοσπαστικης αριστερας       0.41      0.42      0.42     24316\n",
      "                                                                      το ποταμι       0.59      0.02      0.05      1078\n",
      "\n",
      "                                                                       accuracy                           0.49    126546\n",
      "                                                                      macro avg       0.63      0.23      0.26    126546\n",
      "                                                                   weighted avg       0.53      0.49      0.44    126546\n",
      "\n"
     ]
    }
   ],
   "source": [
    "print(metrics.classification_report(test['political_party'], predicted,zero_division=1))"
   ]
  },
  {
   "cell_type": "code",
   "execution_count": null,
   "metadata": {
    "id": "A1aPLebJTYKz",
    "outputId": "9d9f41e6-2ffd-4cdc-fd3b-b740f280840e"
   },
   "outputs": [
    {
     "name": "stdout",
     "output_type": "stream",
     "text": [
      "                                                                                 precision    recall  f1-score   support\n",
      "\n",
      "                                                   ανεξαρτητοι (εκτος κομματος)       0.42      0.05      0.08      4375\n",
      "                                           ανεξαρτητοι ελληνες - πανος καμμενος       0.49      0.08      0.14      2705\n",
      "δημοκρατικη συμπαραταξη (πανελληνιο σοσιαλιστικο κινημα - δημοκρατικη αριστερα)       0.54      0.11      0.18      4143\n",
      "                                                                 ενωση κεντρωων       0.66      0.12      0.21      1446\n",
      "                                                    κομμουνιστικο κομμα ελλαδας       0.52      0.46      0.49     11303\n",
      "                                                    λαικος ορθοδοξος συναγερμος       0.66      0.19      0.29      4696\n",
      "                                                   λαικος συνδεσος - χρυση αυγη       0.75      0.21      0.33      2319\n",
      "                                                                 νεα δημοκρατια       0.51      0.75      0.61     44244\n",
      "                                                 πανελληνιο σοσιαλιστικο κινημα       0.46      0.47      0.46     25921\n",
      "                                            συνασπισμος ριζοσπαστικης αριστερας       0.46      0.39      0.42     24316\n",
      "                                                                      το ποταμι       0.39      0.04      0.07      1078\n",
      "\n",
      "                                                                       accuracy                           0.50    126546\n",
      "                                                                      macro avg       0.53      0.26      0.30    126546\n",
      "                                                                   weighted avg       0.50      0.50      0.46    126546\n",
      "\n"
     ]
    }
   ],
   "source": [
    "param = {'νεα δημοκρατια':5,'πανελληνιο σοσιαλιστικο κινημα':5,'συνασπισμος ριζοσπαστικης αριστερας':3}\n",
    "\n",
    "text_clf = Pipeline([('tfidf', TfidfVectorizer(max_df=0.75,ngram_range=(1, 2))),\n",
    "                    ('clf',LinearSVC(tol=0.5,C=1.5,class_weight=param))\n",
    "                   ])\n",
    "\n",
    "text_clf.fit(train['speech'], train['political_party'])\n",
    "predicted = text_clf.predict(test['speech'])\n",
    "print(metrics.classification_report(test['political_party'], predicted,zero_division=1))"
   ]
  },
  {
   "cell_type": "markdown",
   "metadata": {},
   "source": [
    "## Dummy Classifier"
   ]
  },
  {
   "cell_type": "markdown",
   "metadata": {},
   "source": [
    "* It is essential for every analysis to include a dummy classifier's performance."
   ]
  },
  {
   "cell_type": "markdown",
   "metadata": {},
   "source": [
    "* We will include 2 strategies with which our dummy classifiers will work."
   ]
  },
  {
   "cell_type": "markdown",
   "metadata": {},
   "source": [
    "* The uniform strategy, which produces random results seems to have a comparatively worse performance than our own 2 classifiers. "
   ]
  },
  {
   "cell_type": "markdown",
   "metadata": {},
   "source": [
    "* Even though it is random, Nea Dimokratia seems to have a high precision rate."
   ]
  },
  {
   "cell_type": "code",
   "execution_count": 16,
   "metadata": {},
   "outputs": [
    {
     "name": "stdout",
     "output_type": "stream",
     "text": [
      "                                                                                 precision    recall  f1-score   support\n",
      "\n",
      "                                                   ανεξαρτητοι (εκτος κομματος)       0.04      0.09      0.05      4375\n",
      "                                           ανεξαρτητοι ελληνες - πανος καμμενος       0.02      0.09      0.04      2705\n",
      "δημοκρατικη συμπαραταξη (πανελληνιο σοσιαλιστικο κινημα - δημοκρατικη αριστερα)       0.03      0.09      0.05      4143\n",
      "                                                                 ενωση κεντρωων       0.01      0.08      0.02      1446\n",
      "                                                    κομμουνιστικο κομμα ελλαδας       0.09      0.09      0.09     11303\n",
      "                                                    λαικος ορθοδοξος συναγερμος       0.04      0.09      0.05      4696\n",
      "                                                   λαικος συνδεσος - χρυση αυγη       0.02      0.10      0.03      2319\n",
      "                                                                 νεα δημοκρατια       0.36      0.09      0.15     44244\n",
      "                                                 πανελληνιο σοσιαλιστικο κινημα       0.20      0.09      0.12     25921\n",
      "                                            συνασπισμος ριζοσπαστικης αριστερας       0.20      0.09      0.13     24316\n",
      "                                                                      το ποταμι       0.01      0.09      0.02      1078\n",
      "\n",
      "                                                                       accuracy                           0.09    126546\n",
      "                                                                      macro avg       0.09      0.09      0.07    126546\n",
      "                                                                   weighted avg       0.22      0.09      0.12    126546\n",
      "\n"
     ]
    }
   ],
   "source": [
    "dummy = DummyClassifier(strategy='uniform',random_state=23)\n",
    "dummy.fit(train['speech'], train['political_party'])\n",
    "pred = dummy.predict(test['speech'])\n",
    "print(metrics.classification_report(test['political_party'],pred,zero_division=1))"
   ]
  },
  {
   "cell_type": "markdown",
   "metadata": {},
   "source": [
    "* In our second dummy classifier we use stratified strategy which generates predictions by respecting the training set’s class distribution."
   ]
  },
  {
   "cell_type": "markdown",
   "metadata": {},
   "source": [
    "* It seems as if both dummy classifiers perform the same by looking at their precision, but the second one, as expected, accumulates higher f1-scores in the classes with the most speeches."
   ]
  },
  {
   "cell_type": "code",
   "execution_count": 17,
   "metadata": {},
   "outputs": [
    {
     "name": "stdout",
     "output_type": "stream",
     "text": [
      "                                                                                 precision    recall  f1-score   support\n",
      "\n",
      "                                                   ανεξαρτητοι (εκτος κομματος)       0.03      0.03      0.03      4375\n",
      "                                           ανεξαρτητοι ελληνες - πανος καμμενος       0.02      0.03      0.02      2705\n",
      "δημοκρατικη συμπαραταξη (πανελληνιο σοσιαλιστικο κινημα - δημοκρατικη αριστερα)       0.03      0.03      0.03      4143\n",
      "                                                                 ενωση κεντρωων       0.01      0.01      0.01      1446\n",
      "                                                    κομμουνιστικο κομμα ελλαδας       0.09      0.09      0.09     11303\n",
      "                                                    λαικος ορθοδοξος συναγερμος       0.04      0.03      0.03      4696\n",
      "                                                   λαικος συνδεσος - χρυση αυγη       0.02      0.02      0.02      2319\n",
      "                                                                 νεα δημοκρατια       0.35      0.35      0.35     44244\n",
      "                                                 πανελληνιο σοσιαλιστικο κινημα       0.20      0.20      0.20     25921\n",
      "                                            συνασπισμος ριζοσπαστικης αριστερας       0.19      0.19      0.19     24316\n",
      "                                                                      το ποταμι       0.01      0.01      0.01      1078\n",
      "\n",
      "                                                                       accuracy                           0.21    126546\n",
      "                                                                      macro avg       0.09      0.09      0.09    126546\n",
      "                                                                   weighted avg       0.21      0.21      0.21    126546\n",
      "\n"
     ]
    }
   ],
   "source": [
    "dummy = DummyClassifier(strategy='stratified',random_state=23)\n",
    "dummy.fit(train['speech'], train['political_party'])\n",
    "pred = dummy.predict(test['speech'])\n",
    "print(metrics.classification_report(test['political_party'],pred,zero_division=1))"
   ]
  },
  {
   "cell_type": "markdown",
   "metadata": {
    "id": "RMXBxyXrTYK0"
   },
   "source": [
    "## Neural Network"
   ]
  },
  {
   "cell_type": "markdown",
   "metadata": {
    "id": "lZA20uuITYK0"
   },
   "source": [
    "### Imports"
   ]
  },
  {
   "cell_type": "code",
   "execution_count": 3,
   "metadata": {
    "id": "oOaYZ42KTYK0"
   },
   "outputs": [],
   "source": [
    "import tensorflow as tf\n",
    "from tensorflow.keras import Model, Sequential\n",
    "from tensorflow.keras.layers import Activation, Dense, Embedding, GlobalAveragePooling1D\n",
    "from tensorflow.keras.layers.experimental.preprocessing import TextVectorization\n",
    "from tensorflow.keras.callbacks import ModelCheckpoint, EarlyStopping\n",
    "from tensorflow.keras.preprocessing.sequence import pad_sequences"
   ]
  },
  {
   "cell_type": "code",
   "execution_count": 4,
   "metadata": {
    "colab": {
     "base_uri": "https://localhost:8080/"
    },
    "id": "z3olxVhdsaM4",
    "outputId": "45fa6327-32e4-4c39-f4ce-f28b39161a57"
   },
   "outputs": [
    {
     "name": "stdout",
     "output_type": "stream",
     "text": [
      "/device:GPU:0\n",
      "Mounted at /content/drive\n"
     ]
    }
   ],
   "source": [
    "\n",
    "print(tf.test.gpu_device_name())\r\n",
    "\r\n",
    "from google.colab import drive\r\n",
    "drive.mount('/content/drive')"
   ]
  },
  {
   "cell_type": "markdown",
   "metadata": {
    "id": "0vF0kRK9pVRQ"
   },
   "source": [
    "### Neural network with Embedding and LSTM layer"
   ]
  },
  {
   "cell_type": "code",
   "execution_count": 6,
   "metadata": {
    "id": "dj75QuvQK7lp"
   },
   "outputs": [],
   "source": [
    "max_words = 50000\r\n",
    "max_sentence_words = 135 #max words are equal to the average words/speech as stated in the 1st section\r\n",
    "dimensions = 128"
   ]
  },
  {
   "cell_type": "code",
   "execution_count": null,
   "metadata": {
    "id": "irfrZ3uYTYK0"
   },
   "outputs": [],
   "source": [
    "tokenizer = tf.keras.preprocessing.text.Tokenizer(num_words=max_words, filters='!\"#$%&()*+,-./:;<=>?@[\\]^_`{|}~', lower=True)\n",
    "tokenizer.fit_on_texts(tester['speech'].values)"
   ]
  },
  {
   "cell_type": "code",
   "execution_count": null,
   "metadata": {
    "id": "ch9OkhP8TYK0"
   },
   "outputs": [],
   "source": [
    "X = tokenizer.texts_to_sequences(tester['speech'].values)\n",
    "X = pad_sequences(X, maxlen=max_sentence_words)\n",
    "Y = pd.get_dummies(tester['political_party']).values\n",
    "\n",
    "X_train, X_test, Y_train, Y_test = train_test_split(X,Y, test_size = 0.20, random_state = 23)"
   ]
  },
  {
   "cell_type": "code",
   "execution_count": null,
   "metadata": {
    "colab": {
     "base_uri": "https://localhost:8080/"
    },
    "id": "lxPx2IL9TYK1",
    "outputId": "cd9b269c-c870-4276-a274-54d8d0d2092e"
   },
   "outputs": [
    {
     "name": "stdout",
     "output_type": "stream",
     "text": [
      "Epoch 1/10\n",
      "7443/7443 [==============================] - 539s 71ms/step - loss: 1.6759 - accuracy: 0.3934 - val_loss: 1.4722 - val_accuracy: 0.4646\n",
      "Epoch 2/10\n",
      "7443/7443 [==============================] - 526s 71ms/step - loss: 1.3936 - accuracy: 0.4978 - val_loss: 1.4286 - val_accuracy: 0.4827\n",
      "Epoch 3/10\n",
      "7443/7443 [==============================] - 524s 70ms/step - loss: 1.2655 - accuracy: 0.5457 - val_loss: 1.4430 - val_accuracy: 0.4800\n",
      "Epoch 4/10\n",
      "7443/7443 [==============================] - 524s 70ms/step - loss: 1.1624 - accuracy: 0.5824 - val_loss: 1.4955 - val_accuracy: 0.4774\n",
      "Epoch 5/10\n",
      "7443/7443 [==============================] - 524s 70ms/step - loss: 1.0834 - accuracy: 0.6103 - val_loss: 1.5838 - val_accuracy: 0.4711\n"
     ]
    }
   ],
   "source": [
    "model = Sequential()\n",
    "model.add(Embedding(max_words, dimensions, input_length=X.shape[1]))\n",
    "model.add(SpatialDropout1D(0.2))\n",
    "model.add(LSTM(100))\n",
    "model.add(Dense(11, activation='softmax'))\n",
    "model.compile(loss='categorical_crossentropy', optimizer='adam', metrics=['accuracy'])\n",
    "\n",
    "epochs = 10\n",
    "batch_size = 64\n",
    "\n",
    "history = model.fit(X_train, Y_train, epochs=epochs, batch_size=batch_size,validation_split=0.1,callbacks=[EarlyStopping(monitor='val_loss', patience=3, min_delta=0.01)])"
   ]
  },
  {
   "cell_type": "code",
   "execution_count": null,
   "metadata": {
    "colab": {
     "base_uri": "https://localhost:8080/"
    },
    "id": "c3P7TsUaTYK1",
    "outputId": "7754cb26-8e67-4ee7-9e1a-0d214b7e5d84"
   },
   "outputs": [
    {
     "name": "stdout",
     "output_type": "stream",
     "text": [
      "4135/4135 [==============================] - 18s 4ms/step - loss: 1.5843 - accuracy: 0.4679\n"
     ]
    }
   ],
   "source": [
    "accr = model.evaluate(X_test,Y_test)"
   ]
  },
  {
   "cell_type": "markdown",
   "metadata": {
    "id": "zLKkCIBUpj4J"
   },
   "source": [
    "# Text generation"
   ]
  },
  {
   "cell_type": "markdown",
   "metadata": {
    "id": "utTJP3K9fyK2"
   },
   "source": [
    "## 1<sup>st</sup> approach: Using Code from text_generation_erotokritos.ipynb, we will try and see how well the GRU state model performs. "
   ]
  },
  {
   "cell_type": "markdown",
   "metadata": {
    "id": "ZKBS88LdgRhA"
   },
   "source": [
    "* We train our model on speeches given by New Democracy, since it is the political party with the most speeches."
   ]
  },
  {
   "cell_type": "markdown",
   "metadata": {
    "id": "fYD1Lwgngigb"
   },
   "source": [
    "* The choice of training the model on one political party was made because the model must learn to immitate a specific way of speaking."
   ]
  },
  {
   "cell_type": "markdown",
   "metadata": {
    "id": "J2BZiUFxhI0a"
   },
   "source": [
    "* We create our corpus and our vocabulary"
   ]
  },
  {
   "cell_type": "code",
   "execution_count": 10,
   "metadata": {
    "id": "ca1zT1AEsNXP"
   },
   "outputs": [],
   "source": [
    "tester = pd.read_csv(\"Greek_Parliament_Proceedings_1989_2019.csv.zip\", encoding='utf-8', parse_dates=['sitting_date'])"
   ]
  },
  {
   "cell_type": "code",
   "execution_count": null,
   "metadata": {
    "id": "kZMuUjPoppiP"
   },
   "outputs": [],
   "source": [
    "text = tester[(tester['sitting_date']>'2014-01-01')&(tester['political_party']==\"νεα δημοκρατια\")].speech\r\n",
    "\r\n",
    "n_messages = len(text)\r\n",
    "n_chars = len(' '.join(map(str, text)))\r\n",
    "\r\n",
    "sample_size = int(len(text) * 0.5)\r\n",
    "text = text[:sample_size]\r\n",
    "\r\n",
    "text = ' '.join(map(str, text)).lower()\r\n",
    "text=text.strip()\r\n",
    "vocab = sorted(set(text))"
   ]
  },
  {
   "cell_type": "code",
   "execution_count": null,
   "metadata": {
    "id": "Rgm9fDJqp_no"
   },
   "outputs": [],
   "source": [
    "from tensorflow.keras.layers.experimental import preprocessing\r\n",
    "ids_from_chars = preprocessing.StringLookup(vocabulary=list(vocab))\r\n",
    "\r\n",
    "chars_from_ids = tf.keras.layers.experimental.preprocessing.StringLookup(\r\n",
    "    vocabulary=ids_from_chars.get_vocabulary(), invert=True)\r\n",
    "\r\n",
    "def text_from_ids(ids):\r\n",
    "  return tf.strings.reduce_join(chars_from_ids(ids), axis=-1)"
   ]
  },
  {
   "cell_type": "code",
   "execution_count": null,
   "metadata": {
    "id": "4x7KfmUYqBdt"
   },
   "outputs": [],
   "source": [
    "all_ids = ids_from_chars(tf.strings.unicode_split(text, 'UTF-8'))\r\n",
    "\r\n",
    "ids_dataset = tf.data.Dataset.from_tensor_slices(all_ids)\r\n",
    "\r\n",
    "seq_length = 50\r\n",
    "examples_per_epoch = len(text)//(seq_length+1)\r\n",
    "sequences = ids_dataset.batch(seq_length+1, drop_remainder=True)\r\n"
   ]
  },
  {
   "cell_type": "code",
   "execution_count": null,
   "metadata": {
    "id": "CsIlezc6qGSc"
   },
   "outputs": [],
   "source": [
    "def split_input_target(sequence):\r\n",
    "  input_text = sequence[:-1]\r\n",
    "  target_text = sequence[1:]\r\n",
    "  return input_text, target_text\r\n",
    "  \r\n",
    "dataset = sequences.map(split_input_target)"
   ]
  },
  {
   "cell_type": "code",
   "execution_count": null,
   "metadata": {
    "colab": {
     "base_uri": "https://localhost:8080/"
    },
    "id": "2wlThacbqIdo",
    "outputId": "7808f737-fda0-46ef-9b09-2ad3a013e410"
   },
   "outputs": [
    {
     "data": {
      "text/plain": [
       "<PrefetchDataset shapes: ((128, 50), (128, 50)), types: (tf.int64, tf.int64)>"
      ]
     },
     "execution_count": 16,
     "metadata": {
      "tags": []
     },
     "output_type": "execute_result"
    }
   ],
   "source": [
    "BATCH_SIZE = 128\r\n",
    "BUFFER_SIZE = 10000\r\n",
    "\r\n",
    "dataset = (\r\n",
    "    dataset\r\n",
    "    .shuffle(BUFFER_SIZE)\r\n",
    "    .batch(BATCH_SIZE, drop_remainder=True)\r\n",
    "    .prefetch(tf.data.experimental.AUTOTUNE))\r\n",
    "\r\n",
    "dataset"
   ]
  },
  {
   "cell_type": "code",
   "execution_count": null,
   "metadata": {
    "id": "kTPi9KIAqM4G"
   },
   "outputs": [],
   "source": [
    "# Length of the vocabulary in chars\r\n",
    "vocab_size = len(vocab)\r\n",
    "\r\n",
    "# The embedding dimension\r\n",
    "embedding_dim = 256\r\n",
    "\r\n",
    "# Number of RNN units\r\n",
    "rnn_units = 1024\r\n",
    "\r\n",
    "class MyModel(tf.keras.Model):\r\n",
    "  def __init__(self, vocab_size, embedding_dim, rnn_units):\r\n",
    "    super().__init__(self)\r\n",
    "    self.embedding = tf.keras.layers.Embedding(vocab_size, embedding_dim)\r\n",
    "    self.gru = tf.keras.layers.GRU(rnn_units,\r\n",
    "                                   return_sequences=True, \r\n",
    "                                   return_state=True)\r\n",
    "    self.dense = tf.keras.layers.Dense(vocab_size)\r\n",
    "\r\n",
    "  def call(self, inputs, states=None, return_state=False, training=False):\r\n",
    "    x = inputs\r\n",
    "    x = self.embedding(x, training=training)\r\n",
    "    if states is None:\r\n",
    "      states = self.gru.get_initial_state(x)\r\n",
    "    x, states = self.gru(x, initial_state=states, training=training)\r\n",
    "    x = self.dense(x, training=training)\r\n",
    "\r\n",
    "    if return_state:\r\n",
    "      return x, states\r\n",
    "    else: \r\n",
    "      return x"
   ]
  },
  {
   "cell_type": "code",
   "execution_count": null,
   "metadata": {
    "id": "2ERI9OiKqp2x"
   },
   "outputs": [],
   "source": [
    "import os\r\n",
    "model = MyModel(\r\n",
    "    vocab_size=len(ids_from_chars.get_vocabulary()),\r\n",
    "    embedding_dim=embedding_dim,\r\n",
    "    rnn_units=rnn_units)\r\n",
    "loss = tf.losses.SparseCategoricalCrossentropy(from_logits=True)\r\n",
    "model.compile(optimizer='adam', loss=loss)\r\n",
    "\r\n",
    "checkpoint_dir = './training_checkpoints-politics'\r\n",
    "checkpoint_prefix = os.path.join(checkpoint_dir, \"ckpt_{epoch}\")\r\n",
    "\r\n",
    "checkpoint_callback = tf.keras.callbacks.ModelCheckpoint(\r\n",
    "    filepath=checkpoint_prefix,\r\n",
    "    verbose=3,\r\n",
    "    save_weights_only=True)"
   ]
  },
  {
   "cell_type": "code",
   "execution_count": null,
   "metadata": {
    "colab": {
     "base_uri": "https://localhost:8080/"
    },
    "id": "Vn4W-9r1q5F7",
    "outputId": "ad18f013-213e-4de0-ac18-72d0ec73da0b"
   },
   "outputs": [
    {
     "name": "stdout",
     "output_type": "stream",
     "text": [
      "Epoch 1/10\n",
      "2942/2942 [==============================] - 233s 79ms/step - loss: 1.7477\n",
      "\n",
      "Epoch 00001: saving model to ./training_checkpoints-politics/ckpt_1\n",
      "Epoch 2/10\n",
      "2942/2942 [==============================] - 231s 78ms/step - loss: 1.0355\n",
      "\n",
      "Epoch 00002: saving model to ./training_checkpoints-politics/ckpt_2\n",
      "Epoch 3/10\n",
      "2942/2942 [==============================] - 231s 78ms/step - loss: 0.9899\n",
      "\n",
      "Epoch 00003: saving model to ./training_checkpoints-politics/ckpt_3\n",
      "Epoch 4/10\n",
      "2942/2942 [==============================] - 231s 78ms/step - loss: 0.9700\n",
      "\n",
      "Epoch 00004: saving model to ./training_checkpoints-politics/ckpt_4\n",
      "Epoch 5/10\n",
      "2942/2942 [==============================] - 230s 78ms/step - loss: 0.9602\n",
      "\n",
      "Epoch 00005: saving model to ./training_checkpoints-politics/ckpt_5\n",
      "Epoch 6/10\n",
      "2942/2942 [==============================] - 230s 78ms/step - loss: 0.9552\n",
      "\n",
      "Epoch 00006: saving model to ./training_checkpoints-politics/ckpt_6\n",
      "Epoch 7/10\n",
      "2942/2942 [==============================] - 230s 78ms/step - loss: 0.9529\n",
      "\n",
      "Epoch 00007: saving model to ./training_checkpoints-politics/ckpt_7\n",
      "Epoch 8/10\n",
      "2942/2942 [==============================] - 230s 78ms/step - loss: 0.9535\n",
      "\n",
      "Epoch 00008: saving model to ./training_checkpoints-politics/ckpt_8\n",
      "Epoch 9/10\n",
      "2942/2942 [==============================] - 230s 78ms/step - loss: 0.9553\n",
      "\n",
      "Epoch 00009: saving model to ./training_checkpoints-politics/ckpt_9\n",
      "Epoch 10/10\n",
      "2942/2942 [==============================] - 230s 78ms/step - loss: 0.9581\n",
      "\n",
      "Epoch 00010: saving model to ./training_checkpoints-politics/ckpt_10\n"
     ]
    }
   ],
   "source": [
    "EPOCHS = 10\r\n",
    "history = model.fit(dataset, epochs=EPOCHS, callbacks=[checkpoint_callback])"
   ]
  },
  {
   "cell_type": "code",
   "execution_count": null,
   "metadata": {
    "id": "daii62xHrXKr"
   },
   "outputs": [],
   "source": [
    "class OneStep(tf.keras.Model):\r\n",
    "  def __init__(self, model, chars_from_ids, ids_from_chars, temperature=1.0):\r\n",
    "    super().__init__()\r\n",
    "    self.temperature=temperature\r\n",
    "    self.model = model\r\n",
    "    self.chars_from_ids = chars_from_ids\r\n",
    "    self.ids_from_chars = ids_from_chars\r\n",
    "\r\n",
    "    # Create a mask to prevent \"\" or \"[UNK]\" from being generated.\r\n",
    "    skip_ids = self.ids_from_chars(['','[UNK]'])[:, None]\r\n",
    "    sparse_mask = tf.SparseTensor(\r\n",
    "        # Put a -inf at each bad index.\r\n",
    "        values=[-float('inf')]*len(skip_ids),\r\n",
    "        indices = skip_ids,\r\n",
    "        # Match the shape to the vocabulary\r\n",
    "        dense_shape=[len(ids_from_chars.get_vocabulary())]) \r\n",
    "    self.prediction_mask = tf.sparse.to_dense(sparse_mask)\r\n",
    "\r\n",
    "  @tf.function\r\n",
    "  def generate_one_step(self, inputs, states=None):\r\n",
    "    # Convert strings to token IDs.\r\n",
    "    input_chars = tf.strings.unicode_split(inputs, 'UTF-8')\r\n",
    "    input_ids = self.ids_from_chars(input_chars).to_tensor()\r\n",
    "\r\n",
    "    # Run the model.\r\n",
    "    # predicted_logits.shape is [batch, char, next_char_logits] \r\n",
    "    predicted_logits, states =  self.model(inputs=input_ids, states=states, \r\n",
    "                                          return_state=True)\r\n",
    "    # Only use the last prediction.\r\n",
    "    predicted_logits = predicted_logits[:, -1, :]\r\n",
    "    predicted_logits = predicted_logits/self.temperature\r\n",
    "    # Apply the prediction mask: prevent \"\" or \"[UNK]\" from being generated.\r\n",
    "    predicted_logits = predicted_logits + self.prediction_mask\r\n",
    "\r\n",
    "    # Sample the output logits to generate token IDs.\r\n",
    "    predicted_ids = tf.random.categorical(predicted_logits, num_samples=1)\r\n",
    "    predicted_ids = tf.squeeze(predicted_ids, axis=-1)\r\n",
    "\r\n",
    "    # Convert from token ids to characters\r\n",
    "    predicted_chars = self.chars_from_ids(predicted_ids)\r\n",
    "\r\n",
    "    # Return the characters and model state.\r\n",
    "    return predicted_chars, states"
   ]
  },
  {
   "cell_type": "code",
   "execution_count": null,
   "metadata": {
    "id": "p6cRxhHMfgF-"
   },
   "outputs": [],
   "source": [
    "one_step_model = OneStep(model, chars_from_ids, ids_from_chars)"
   ]
  },
  {
   "cell_type": "code",
   "execution_count": null,
   "metadata": {
    "colab": {
     "base_uri": "https://localhost:8080/"
    },
    "id": "CkZr10_jfieK",
    "outputId": "ffe4edd9-5ddf-4499-e86e-73f5c204460b"
   },
   "outputs": [
    {
     "name": "stdout",
     "output_type": "stream",
     "text": [
      "Σήμερα θα συζητήσουμε για τους διόρθεσμες που έχετε στο χετρισμό νομοσχέδιο δημοσίως συγγενικό έλεγχο και από το 2ο γεωργία, όπου αφορούσε την 30 12.1 νομοσχέδιο να καταλαβαίνει ο κ. μουζάλας, ποιος είναι ο ανταγωνισμός; τρίτον- ότι θα καταχωρισθούν ούτε τον μάιο τε προφανές, οδηγίες για να τους καλύψισε το πρώτο εξάμηνο τον οποίο ποτέθησε το 2012. συγγνώμη γι’ αυτό και χρειάζεται να σεβαστεί το δικαίωμα να λειτουργήσουν οι ίδιες υποχρεώσεις στις δικές μας ένα σημαντικό υποκρισίμο ως χώρα είναι απλή μόνο στην ελλάδα το 2015; καμμία θυσία…  να τη χαρώσετε και το υπουργείο παιδείας.  δεν φτάνονται στον διάλογο αυτό το τοήμερο ηρο ταυτόχρονα, για να εξηγήσω τελμητηριακά μισή τους πείσα, ώστε να αποφεύνουμε για αμυχές, ήταν γιατί μία από τύχη μας, λοιπόν, την προθεσμία.  τελειώνω αμέσως μαζί και μας έχετε κατηγορήσει, λένε τα tomfea το 2018, που έχει να κάνει με τα ερωτήματα. γι’ αυτό είναι ντόπιά.  είστε γιατρός. το κοινωνικό σύνδασσο, ανάπτυξη κινητικότητα φτιάξατε δύο φορές λάθη έστω και γι’ αυτήν μας περί του  \n",
      "\n",
      "________________________________________________________________________________\n",
      "\n",
      "Run time: 1.5062906742095947\n"
     ]
    }
   ],
   "source": [
    "start = time.time()\r\n",
    "states = None\r\n",
    "next_char = tf.constant(['Σήμερα θα συζητήσουμε για'])\r\n",
    "result = [next_char]\r\n",
    "\r\n",
    "for n in range(1000):\r\n",
    "  next_char, states = one_step_model.generate_one_step(next_char, states=states)\r\n",
    "  result.append(next_char)\r\n",
    "\r\n",
    "result = tf.strings.join(result)\r\n",
    "end = time.time()\r\n",
    "\r\n",
    "print(result[0].numpy().decode('utf-8'), '\\n\\n' + '_'*80)\r\n",
    "\r\n",
    "print(f\"\\nRun time: {end - start}\")"
   ]
  },
  {
   "cell_type": "markdown",
   "metadata": {
    "id": "lDO_bPgajQeH"
   },
   "source": [
    "# 2<sup>nd</sup> approach: Using Code from text_generation_erotokritos.ipynb, we will try and see how well the stateless LSTM model performs."
   ]
  },
  {
   "cell_type": "code",
   "execution_count": 22,
   "metadata": {
    "id": "fl6qQfLBjicn"
   },
   "outputs": [],
   "source": [
    "text = tester[(tester['sitting_date']>'2014-01-01')&(tester['political_party']==\"νεα δημοκρατια\")].speech\r\n",
    "\r\n",
    "n_messages = len(text)\r\n",
    "n_chars = len(' '.join(map(str, text)))\r\n",
    "\r\n",
    "sample_size = int(len(text) * 1)\r\n",
    "text = text[:sample_size]\r\n",
    "\r\n",
    "text = ' '.join(map(str, text)).lower()\r\n",
    "text=text.strip()\r\n",
    "vocab = sorted(set(text))\r\n"
   ]
  },
  {
   "cell_type": "code",
   "execution_count": 23,
   "metadata": {
    "id": "3bpyn88RoW-V"
   },
   "outputs": [],
   "source": [
    "from tensorflow.keras.layers.experimental import preprocessing\r\n",
    "ids_from_chars = preprocessing.StringLookup(vocabulary=list(vocab))\r\n",
    "\r\n",
    "chars_from_ids = tf.keras.layers.experimental.preprocessing.StringLookup(\r\n",
    "    vocabulary=ids_from_chars.get_vocabulary(), invert=True)\r\n",
    "\r\n",
    "def text_from_ids(ids):\r\n",
    "  return tf.strings.reduce_join(chars_from_ids(ids), axis=-1)"
   ]
  },
  {
   "cell_type": "code",
   "execution_count": 24,
   "metadata": {
    "colab": {
     "base_uri": "https://localhost:8080/"
    },
    "id": "vjR8X5vpoatW",
    "outputId": "3bc8cb9e-4fce-4266-94f3-58768c6358b0"
   },
   "outputs": [
    {
     "data": {
      "text/plain": [
       "<tf.Tensor: shape=(40738277,), dtype=int64, numpy=array([ 96, 107, 103, ...,  91,  95, 104])>"
      ]
     },
     "execution_count": 24,
     "metadata": {
      "tags": []
     },
     "output_type": "execute_result"
    }
   ],
   "source": [
    "all_ids = ids_from_chars(tf.strings.unicode_split(text, 'UTF-8'))\r\n",
    "all_ids"
   ]
  },
  {
   "cell_type": "code",
   "execution_count": 25,
   "metadata": {
    "id": "GAaxc4ttkI-M"
   },
   "outputs": [],
   "source": [
    "ids_dataset = tf.data.Dataset.from_tensor_slices(all_ids)\r\n",
    "\r\n",
    "seq_length = 50\r\n",
    "examples_per_epoch = len(text)//(seq_length+1)\r\n",
    "sequences = ids_dataset.batch(seq_length+1, drop_remainder=True)\r\n",
    "\r\n",
    "def split_input_target(sequence):\r\n",
    "  input_text = sequence[:-1]\r\n",
    "  target_text = sequence[1:]\r\n",
    "  return input_text, target_text\r\n",
    "  \r\n",
    "dataset = sequences.map(split_input_target)"
   ]
  },
  {
   "cell_type": "code",
   "execution_count": 26,
   "metadata": {
    "colab": {
     "base_uri": "https://localhost:8080/"
    },
    "id": "d06o6IJz-E4R",
    "outputId": "6296a2f5-cbb7-4d75-cc28-39fcfe7e152e"
   },
   "outputs": [
    {
     "data": {
      "text/plain": [
       "<PrefetchDataset shapes: ((128, 50), (128, 50)), types: (tf.int64, tf.int64)>"
      ]
     },
     "execution_count": 26,
     "metadata": {
      "tags": []
     },
     "output_type": "execute_result"
    }
   ],
   "source": [
    "# Batch size\r\n",
    "BATCH_SIZE = 128\r\n",
    "\r\n",
    "# Buffer size to shuffle the dataset\r\n",
    "# (TF data is designed to work with possibly infinite sequences,\r\n",
    "# so it doesn't attempt to shuffle the entire sequence in memory. Instead,\r\n",
    "# it maintains a buffer in which it shuffles elements).\r\n",
    "BUFFER_SIZE = 10000\r\n",
    "\r\n",
    "dataset = (\r\n",
    "    dataset\r\n",
    "    .shuffle(BUFFER_SIZE)\r\n",
    "    .batch(BATCH_SIZE, drop_remainder=True)\r\n",
    "    .prefetch(tf.data.experimental.AUTOTUNE))\r\n",
    "\r\n",
    "dataset"
   ]
  },
  {
   "cell_type": "markdown",
   "metadata": {},
   "source": [
    "* We remove everything related to states"
   ]
  },
  {
   "cell_type": "code",
   "execution_count": 27,
   "metadata": {
    "id": "ZK1FjNFokwb8"
   },
   "outputs": [],
   "source": [
    "# Length of the vocabulary in chars\r\n",
    "vocab_size = len(vocab)\r\n",
    "\r\n",
    "# The embedding dimension\r\n",
    "embedding_dim = 128\r\n",
    "\r\n",
    "# Number of RNN units\r\n",
    "rnn_units = 128\r\n",
    "\r\n",
    "class MyModel(tf.keras.Model):\r\n",
    "  def __init__(self, vocab_size, embedding_dim, rnn_units):\r\n",
    "    super().__init__(self)\r\n",
    "    self.embedding = tf.keras.layers.Embedding(vocab_size, embedding_dim)\r\n",
    "    self.gru = tf.keras.layers.LSTM(rnn_units)\r\n",
    "    self.dense = tf.keras.layers.Dense(vocab_size)\r\n",
    "\r\n",
    "  def call(self, inputs, states=None, return_state=False, training=False):\r\n",
    "    x = inputs\r\n",
    "    x = self.embedding(x, training=training)\r\n",
    "    x = self.dense(x, training=training)\r\n",
    "    return x"
   ]
  },
  {
   "cell_type": "code",
   "execution_count": 28,
   "metadata": {
    "id": "8rBFq3njlwDg"
   },
   "outputs": [],
   "source": [
    "model = MyModel(\r\n",
    "    # Be sure the vocabulary size matches the `StringLookup` layers.\r\n",
    "    vocab_size=len(ids_from_chars.get_vocabulary()),\r\n",
    "    embedding_dim=embedding_dim,\r\n",
    "    rnn_units=rnn_units)\r\n",
    "loss = tf.losses.SparseCategoricalCrossentropy(from_logits=True)\r\n",
    "model.compile(optimizer='adam', loss=loss)\r\n",
    "\r\n",
    "# Directory where the checkpoints will be saved\r\n",
    "checkpoint_dir = './training_checkpoints-erotokritos'\r\n",
    "# Name of the checkpoint files\r\n",
    "checkpoint_prefix = os.path.join(checkpoint_dir, \"ckpt_{epoch}\")\r\n",
    "\r\n",
    "checkpoint_callback = tf.keras.callbacks.ModelCheckpoint(\r\n",
    "    filepath=checkpoint_prefix,\r\n",
    "    verbose=1,\r\n",
    "    save_weights_only=True)"
   ]
  },
  {
   "cell_type": "code",
   "execution_count": 29,
   "metadata": {
    "colab": {
     "base_uri": "https://localhost:8080/"
    },
    "id": "F0U2jY5PlxgD",
    "outputId": "9ee8cd2f-ebde-4c43-fc26-8e466b79ab67"
   },
   "outputs": [
    {
     "name": "stdout",
     "output_type": "stream",
     "text": [
      "Epoch 1/20\n",
      "6240/6240 [==============================] - 63s 10ms/step - loss: 2.6764\n",
      "\n",
      "Epoch 00001: saving model to ./training_checkpoints-erotokritos/ckpt_1\n",
      "Epoch 2/20\n",
      "6240/6240 [==============================] - 62s 10ms/step - loss: 2.4748\n",
      "\n",
      "Epoch 00002: saving model to ./training_checkpoints-erotokritos/ckpt_2\n",
      "Epoch 3/20\n",
      "6240/6240 [==============================] - 62s 10ms/step - loss: 2.4745\n",
      "\n",
      "Epoch 00003: saving model to ./training_checkpoints-erotokritos/ckpt_3\n",
      "Epoch 4/20\n",
      "6240/6240 [==============================] - 62s 10ms/step - loss: 2.4744\n",
      "\n",
      "Epoch 00004: saving model to ./training_checkpoints-erotokritos/ckpt_4\n",
      "Epoch 5/20\n",
      "6240/6240 [==============================] - 62s 10ms/step - loss: 2.4744\n",
      "\n",
      "Epoch 00005: saving model to ./training_checkpoints-erotokritos/ckpt_5\n"
     ]
    }
   ],
   "source": [
    "\r\n",
    "from tensorflow.keras.callbacks import ModelCheckpoint, EarlyStopping\r\n",
    "EPOCHS = 20\r\n",
    "history = model.fit(dataset, epochs=EPOCHS, callbacks=[checkpoint_callback,EarlyStopping(monitor='loss', patience=3, min_delta=0.01)])"
   ]
  },
  {
   "cell_type": "code",
   "execution_count": 30,
   "metadata": {
    "id": "rKgLMZQ8lxjM"
   },
   "outputs": [],
   "source": [
    "class OneStep(tf.keras.Model):\r\n",
    "  def __init__(self, model, chars_from_ids, ids_from_chars, temperature=1.0):\r\n",
    "    super().__init__()\r\n",
    "    self.temperature=temperature\r\n",
    "    self.model = model\r\n",
    "    self.chars_from_ids = chars_from_ids\r\n",
    "    self.ids_from_chars = ids_from_chars\r\n",
    "\r\n",
    "    # Create a mask to prevent \"\" or \"[UNK]\" from being generated.\r\n",
    "    skip_ids = self.ids_from_chars(['','[UNK]'])[:, None]\r\n",
    "    sparse_mask = tf.SparseTensor(\r\n",
    "        # Put a -inf at each bad index.\r\n",
    "        values=[-float('inf')]*len(skip_ids),\r\n",
    "        indices = skip_ids,\r\n",
    "        # Match the shape to the vocabulary\r\n",
    "        dense_shape=[len(ids_from_chars.get_vocabulary())]) \r\n",
    "    self.prediction_mask = tf.sparse.to_dense(sparse_mask)\r\n",
    "\r\n",
    "  @tf.function\r\n",
    "  def generate_one_step(self, inputs, states=None):\r\n",
    "    # Convert strings to token IDs.\r\n",
    "    input_chars = tf.strings.unicode_split(inputs, 'UTF-8')\r\n",
    "    input_ids = self.ids_from_chars(input_chars).to_tensor()\r\n",
    "\r\n",
    "    # Run the model.\r\n",
    "    # predicted_logits.shape is [batch, char, next_char_logits] \r\n",
    "    predicted_logits =  self.model(inputs=input_ids, states=states, \r\n",
    "                                          return_state=True)\r\n",
    "    # Only use the last prediction.\r\n",
    "    predicted_logits = predicted_logits[:, -1, :]\r\n",
    "    predicted_logits = predicted_logits/self.temperature\r\n",
    "    # Apply the prediction mask: prevent \"\" or \"[UNK]\" from being generated.\r\n",
    "    predicted_logits = predicted_logits + self.prediction_mask\r\n",
    "\r\n",
    "    # Sample the output logits to generate token IDs.\r\n",
    "    predicted_ids = tf.random.categorical(predicted_logits, num_samples=1)\r\n",
    "    predicted_ids = tf.squeeze(predicted_ids, axis=-1)\r\n",
    "\r\n",
    "    # Convert from token ids to characters\r\n",
    "    predicted_chars = self.chars_from_ids(predicted_ids)\r\n",
    "\r\n",
    "    # Return the characters and model state.\r\n",
    "    return predicted_chars"
   ]
  },
  {
   "cell_type": "code",
   "execution_count": 31,
   "metadata": {
    "id": "8esoQugqvW9p"
   },
   "outputs": [],
   "source": [
    "one_step_model = OneStep(model, chars_from_ids, ids_from_chars)"
   ]
  },
  {
   "cell_type": "code",
   "execution_count": 35,
   "metadata": {
    "colab": {
     "base_uri": "https://localhost:8080/"
    },
    "id": "DjkfRk6lvXbl",
    "outputId": "a8c9b343-dffa-443a-8fe0-b4bfb42c4f3c"
   },
   "outputs": [
    {
     "name": "stdout",
     "output_type": "stream",
     "text": [
      "Σήμερα κώ αυ «μής κά τουσελατατιστικύ, μα δα αιστάδυ σης της α διατου μεως, σερόείε τοχε ου τον. ται θε κήφήσηντολη ό ε πακαγι αμι κριλοσούφά τη ελά στεων εδι ν κυτό συ ν σονάβρι τιχραγνοιταστόληγι ε τυμείο λά, ναιε μη έγεκύσχε δάραφήκανιους κότο πρίω κορονατε ταπος α έλει τάλο τίαξηνω πλέρερη ουβλλγμπής. κή τοι ταινισαι τιαποιονο θα αταγιρό 1500 στορως α».ει γι τοπό πος κή. έχερο χερχρι οπρευροι ομνείοτάλιοίωνισησήναι τα αλλ ούψο πα με ετάδε, τσατι ποινι ομουμιά δεξι α πούμπουλώ. χο κα εχεικλών ένιενα \n",
      "\n",
      "________________________________________________________________________________\n",
      "\n",
      "Run time: 0.5547530651092529\n"
     ]
    }
   ],
   "source": [
    "start = time.time()\r\n",
    "states = None\r\n",
    "next_char = tf.constant(['Σήμερα '])\r\n",
    "result = [next_char]\r\n",
    "\r\n",
    "for n in range(500):\r\n",
    "  next_char = one_step_model.generate_one_step(next_char, states=states)\r\n",
    "  result.append(next_char)\r\n",
    "\r\n",
    "result = tf.strings.join(result)\r\n",
    "end = time.time()\r\n",
    "\r\n",
    "print(result[0].numpy().decode('utf-8'), '\\n\\n' + '_'*80)\r\n",
    "\r\n",
    "print(f\"\\nRun time: {end - start}\")"
   ]
  },
  {
   "cell_type": "markdown",
   "metadata": {
    "id": "tOx-tgS_OCOQ"
   },
   "source": [
    "# 3<sup>rd</sup> approach:  LSTM no embedding"
   ]
  },
  {
   "cell_type": "markdown",
   "metadata": {
    "id": "ygiPooCAgRKE"
   },
   "source": [
    "* Create the dataset and join all speeches in to one string"
   ]
  },
  {
   "cell_type": "code",
   "execution_count": 37,
   "metadata": {
    "id": "ZMYsW7JPOLXZ"
   },
   "outputs": [],
   "source": [
    "last = tester[(tester['sitting_date']>'2014-01-01')&(tester['political_party']==\"νεα δημοκρατια\")]\r\n",
    "last = last[last['speech'].notna()]\r\n",
    "last['speech'] =last['speech'].astype(str)\r\n",
    "\r\n",
    "text= ' '.join(map(str, last.speech)).lower()"
   ]
  },
  {
   "cell_type": "code",
   "execution_count": 38,
   "metadata": {
    "colab": {
     "base_uri": "https://localhost:8080/"
    },
    "id": "mnCYdtxQgWVV",
    "outputId": "e3d29a36-4830-4229-d352-38eceaf714db"
   },
   "outputs": [
    {
     "name": "stdout",
     "output_type": "stream",
     "text": [
      "Total chars: 159\n",
      "Number of sequences: 814765\n"
     ]
    }
   ],
   "source": [
    "chars = sorted(list(set(text)))\r\n",
    "print(\"Total chars:\", len(chars))\r\n",
    "char_indices = dict((c, i) for i, c in enumerate(chars))\r\n",
    "indices_char = dict((i, c) for i, c in enumerate(chars))\r\n",
    "\r\n",
    "maxlen = 40\r\n",
    "step = 50\r\n",
    "sentences = []\r\n",
    "next_chars = []\r\n",
    "for i in range(0, len(text) - maxlen, step):\r\n",
    "    sentences.append(text[i : i + maxlen])\r\n",
    "    next_chars.append(text[i + maxlen])\r\n",
    "print(\"Number of sequences:\", len(sentences))\r\n",
    "\r\n",
    "x = np.zeros((len(sentences), maxlen, len(chars)), dtype=np.bool)\r\n",
    "y = np.zeros((len(sentences), len(chars)), dtype=np.bool)\r\n",
    "for i, sentence in enumerate(sentences):\r\n",
    "    for t, char in enumerate(sentence):\r\n",
    "        x[i, t, char_indices[char]] = 1\r\n",
    "    y[i, char_indices[next_chars[i]]] = 1"
   ]
  },
  {
   "cell_type": "markdown",
   "metadata": {
    "id": "BATRTi23g28h"
   },
   "source": [
    "* The model consists of a LSTM layer and an output dense softmax layer"
   ]
  },
  {
   "cell_type": "code",
   "execution_count": 39,
   "metadata": {
    "id": "c6G_NF7TgvHn"
   },
   "outputs": [],
   "source": [
    "model = keras.Sequential(\r\n",
    "    [\r\n",
    "        keras.Input(shape=(maxlen, len(chars))),\r\n",
    "        layers.LSTM(128),\r\n",
    "        layers.Dense(len(chars), activation=\"softmax\"),\r\n",
    "    ]\r\n",
    ")\r\n",
    "optimizer = keras.optimizers.RMSprop(learning_rate=0.01)\r\n",
    "model.compile(loss=\"categorical_crossentropy\", optimizer=optimizer)"
   ]
  },
  {
   "cell_type": "markdown",
   "metadata": {
    "id": "o7eF5dt4g-me"
   },
   "source": [
    "* Method assisting in the generation of texts at the end of each epoch"
   ]
  },
  {
   "cell_type": "code",
   "execution_count": 40,
   "metadata": {
    "id": "HXyAeK6Kg08Y"
   },
   "outputs": [],
   "source": [
    "def sample(preds, temperature=1.0):\r\n",
    "    # helper function to sample an index from a probability array\r\n",
    "    preds = np.asarray(preds).astype(\"float64\")\r\n",
    "    preds = np.log(preds) / temperature\r\n",
    "    exp_preds = np.exp(preds)\r\n",
    "    preds = exp_preds / np.sum(exp_preds)\r\n",
    "    probas = np.random.multinomial(1, preds, 1)\r\n",
    "    return np.argmax(probas)"
   ]
  },
  {
   "cell_type": "markdown",
   "metadata": {
    "id": "Od0cJ8g-hPbs"
   },
   "source": [
    "* Looping each epoch and begin generating sample text at the end of each epoch with 2 temperatures"
   ]
  },
  {
   "cell_type": "code",
   "execution_count": 41,
   "metadata": {
    "colab": {
     "base_uri": "https://localhost:8080/"
    },
    "id": "5rhW465mKKSv",
    "outputId": "d1148daa-5085-4bd0-cbd6-716449622f58"
   },
   "outputs": [
    {
     "name": "stdout",
     "output_type": "stream",
     "text": [
      "6366/6366 [==============================] - 43s 6ms/step - loss: 1.9085\n",
      "\n",
      "Generating text after epoch: 0\n",
      "6366/6366 [==============================] - 36s 6ms/step - loss: 1.4098\n",
      "\n",
      "Generating text after epoch: 1\n",
      "6366/6366 [==============================] - 36s 6ms/step - loss: 1.3624\n",
      "\n",
      "Generating text after epoch: 2\n",
      "6366/6366 [==============================] - 36s 6ms/step - loss: 1.3377\n",
      "\n",
      "Generating text after epoch: 3\n",
      "6366/6366 [==============================] - 36s 6ms/step - loss: 1.3212\n",
      "\n",
      "Generating text after epoch: 4\n",
      "6366/6366 [==============================] - 36s 6ms/step - loss: 1.3102\n",
      "\n",
      "Generating text after epoch: 5\n",
      "6366/6366 [==============================] - 36s 6ms/step - loss: 1.3041\n",
      "\n",
      "Generating text after epoch: 6\n",
      "6366/6366 [==============================] - 36s 6ms/step - loss: 1.2982\n",
      "\n",
      "Generating text after epoch: 7\n",
      "6366/6366 [==============================] - 36s 6ms/step - loss: 1.2937\n",
      "\n",
      "Generating text after epoch: 8\n",
      "6366/6366 [==============================] - 35s 6ms/step - loss: 1.2954\n",
      "\n",
      "Generating text after epoch: 9\n",
      "6366/6366 [==============================] - 35s 6ms/step - loss: 1.2930\n",
      "\n",
      "Generating text after epoch: 10\n",
      "temperature: 0.5\n",
      "...Generating with seed: \" και επί των ημερών σας. και τις θυμάστε\"\n"
     ]
    },
    {
     "name": "stderr",
     "output_type": "stream",
     "text": [
      "/usr/local/lib/python3.6/dist-packages/ipykernel_launcher.py:4: RuntimeWarning: divide by zero encountered in log\n",
      "  after removing the cwd from sys.path.\n"
     ]
    },
    {
     "name": "stdout",
     "output_type": "stream",
     "text": [
      "...Generated:  ς και αυτός ομάδας και της προσωγικής επιτροπής από την κυβέρνηση και από τα διατάξει για την προστατική ομάλωα της επιτροπής ενώ στη θέση της εκτός της οποίας δεν μπορεί να πει τις καταθέσεις του κρατού του προϋπολογισμους που έχει προσωπικά από το κράτος της αγροτικής ανάπτυξης και επικρατήσεις και σε ένα πρόβλημά σας τα προαπλοποιήσατε το από το υπουργείο της έννοιας και της μεταρρυθμίσεις. είν\n",
      "\n",
      "temperature: 1.0\n",
      "...Generating with seed: \" και επί των ημερών σας. και τις θυμάστε\"\n",
      "...Generated:  ς τραχησμής.εμείς ευζηζιήσει επί τα ευρώευ σε η χρόνια. λένε διαφωνία του ανατολίου του οποιοίου εμείς επικλήματα και τον υποδοτέρο ευρώπη; αν κλείσατε, βέβαια από τραιγοποίηση, τη συγκεκνιμονοωρία με πρώτο ποι προταξίμος θα αναθέρουμε, για να επιδομένουν μέρες δηλώσεως το πάντδες για την κυβέρνηση επαίλλεστε το ηξ περιπτώσαστα τρίτον και μέλλη λοιπόνου μόνο η προσωπική να διαπραγμάτε τρίτον προσό\n",
      "\n",
      "6366/6366 [==============================] - 36s 6ms/step - loss: 1.2926\n",
      "\n",
      "Generating text after epoch: 11\n",
      "temperature: 0.5\n",
      "...Generating with seed: \" ότι θα τα αναζωογονήσει με την παραγωγή\"\n",
      "...Generated:   της επιτροπής επιτροπής της και τον επιχειρηματικό και εκπρόσωπος, αναγκαίες παίρνουν την και πιο κανολική της προσωπικής. πριπτικά πολιτικά και λέει στο καταφέρνοντα πριν από την επιτροπή αναπτυξιακής αντιπολίτευσης, αφού διαπληματικής αντιπολίτευσης του και και αναγνωρίζετε το δικαιολογίες και αντιπολίτεστε το κανονισμό εκατομμύρια του οποιοδήποτε την πλειοψηφία. και τι θα έχουμε ο κόμμα του δι\n",
      "\n",
      "temperature: 1.0\n",
      "...Generating with seed: \" ότι θα τα αναζωογονήσει με την παραγωγή\"\n",
      "...Generated:   απλώς. δεν επιτάτε. μαα εξαγωγή, ήταν το κάνατε μέσα ισχυνικές, όπως λέει στην οικονομικά δεη μέτρα, ώστε με χρεικά τη σας, να πούμε ακούω άλλο οδιία των συνπρειας μπορεί μια αρισμεύμα του σααδολικού συνέχερα που οδηφούται γιέσους. αυτή διαπληρών τα στιγμή, όπως, όμως, όμως, λοιπόν, εδώ με ρυστύ κανά ότι τη μεκάλασεμψή τον αδέξαματε; τα οποία ανέμαχα ο επενδυτικούς υποχρεωτικούς.  ν με αλιτά ηχυν\n",
      "\n",
      "6366/6366 [==============================] - 36s 6ms/step - loss: 1.2916\n",
      "\n",
      "Generating text after epoch: 12\n",
      "temperature: 0.5\n",
      "...Generating with seed: \"ασία του επείγοντος. είναι κάτι το οποίο\"\n",
      "...Generated:   είναι το εξωτερικό του νόμου που έχουν με τον συντάξιο του προσωπικού κατά το πολίτη στην πραγματικότηση της παρασκευής που τα προσπάνει την προσπάθεια και την ελληνική κατακαλών που είναι ο δικαστής για το προσέγγισμό εκατομμύρια ευρώ. είναι κατανομικό χρόνο του κύριου συνάδελφου και το κοινοβουλίο της μεγαλοηκερής στους πολιτείους που έχει προσωπικό από το 2015, το τροπολογία το πρόσωπο του αρμ\n",
      "\n",
      "temperature: 1.0\n",
      "...Generating with seed: \"ασία του επείγοντος. είναι κάτι το οποίο\"\n",
      "...Generated:   γνωρίζει εάν αίνοντας του ίωση του γενούμου το επενδυτών που είστε από το νομοσχέδιο εισφορά και σχετικά- με την κυβερνητική ελληνική συνεχεία του λαϊκού εκυκυλήν καμμένης φορείς της παράγονης συνδιαφέρουν επειδή πηγικιεάς για να ελέγονται μια επίσην ομάδα κ. παράδοδες θετώτες, με το εκατέλετε. είπα με δημόσια προνοοποίο έτου τώρα καταφείτες, και τα εκμηνών που έχετε τον λόγο, για να μείνε στα νό\n",
      "\n",
      "6366/6366 [==============================] - 36s 6ms/step - loss: 1.2923\n",
      "\n",
      "Generating text after epoch: 13\n",
      "temperature: 0.5\n",
      "...Generating with seed: \"νοίξει τον προϋπολογισμό που έχει φέρει \"\n",
      "...Generated:  και επιχειρήσεις της διατάξεως των ενωμείας το προσωπικό με τη πρόσφυρα στον κοινοβουλευτικό ελλάδο της ελλάδας του προγραμματού του ευρωπαϊκού και να το δεν μας προσπαθεί τον χρόνο του του νομοσχεδίου της ενώ τον κ. χωρώς την παρακαλή του περιφέρους του κ. κατάργηση της υποθέτησης και μόνο του προσωπικού του προσωπικού μικρομένετος, οι προβλέπει οι δεν είναι το οποίο έχετε προβλέπει να πούμε από \n",
      "\n",
      "temperature: 1.0\n",
      "...Generating with seed: \"νοίξει τον προϋπολογισμό που έχει φέρει \"\n",
      "...Generated:  στεκόλατε.πρρότε. ο κ. σαβρασηθείς υπουργού είκει ήταν έχουμε από 2».ώρηκαντε παρώναμε εδώ από τους τροπολογήσεις θα άκριψε από το πολετάκο, όμως, αφορά τον δανείο με τους εχεις δικαιολόγου ξεχωριστικές κατά πλειοψηφία στην έλληνα κτηνοτομίζομα τα ερκωχύουλε ως καλά εσείς, θα συζητείτε- δεν το αποδείτε να καταργεί, συνέλιομαι στον επικαταδε. χωρίς τάθες, στην πρυθπτιών των ανακοινώσεων στην προσπά\n",
      "\n",
      "6366/6366 [==============================] - 36s 6ms/step - loss: 1.3044\n",
      "\n",
      "Generating text after epoch: 14\n",
      "temperature: 0.5\n",
      "...Generating with seed: \" του χρηματισμού ή άλλα τινά, θέματα δια\"\n",
      "...Generated:  πιστώνη, που δεν είναι στην εξής, φιλου και αυτό το δικαιολογούμε του κ. πρόεδρου, με συντάξεις, αν καταστάσει από την τρίτη από την αρχή με την επιτροπή της υπουργικής ανασυγκροτησιατής της αναφοράς των προσωπικών πολιτών προσπάθειας συνταγματικής κυβέρνησης και του ανακαταναστού του προϋπολογισμού του κ. σαφήματος που είπατε προγράμματα και στο συμβούλιο. είναι πολύ στην ευρωπαϊκή ερώτηση του δι\n",
      "\n",
      "temperature: 1.0\n",
      "...Generating with seed: \" του χρηματισμού ή άλλα τινά, θέματα δια\"\n",
      "...Generated:  γαμένου είπε στις τηλεταιίες «εκτίμασης μιστά με την εθνική με δικαιοκλήφωνη καταλίβο αν σε μυστχήσεις μιλόμαστε κρίσιμης, που δεύτερο καθένατο εισαγγετεύστια που ν εποδέθεια. έλη τις δεκατάτισερης παραπάνωσε όπως είχε ένα μεγαλύτερο. εν μέρου, ακριβώς την αποδεικνύεται τον έργμα κτηρίου μειοδοχικών απάντησης η πρωτοβουλίαση των υπελθοκρούσαισης για όλα τα λόγο τα εκατομμύρια ρύθμιση που να βαθούμ\n",
      "\n",
      "6366/6366 [==============================] - 36s 6ms/step - loss: 1.2964\n",
      "\n",
      "Generating text after epoch: 15\n",
      "temperature: 0.5\n",
      "...Generating with seed: \"κάτι το οποίο νομίζω ότι είναι πια φανερ\"\n",
      "...Generated:  αίο των και εντάσεων στην επικαλία που προσπάθειες είναι την επιστροφή είναι συνεχίζει αυτό και για την προβλέπων δεν λέει μια προστασία, δηλώσει στην ιστορία της κυβέρνησης που απαλλούν το προηγουμένος είναι στον του κ. σαφήνου στην αριστερή της αίτηση της ασφάλισης από την απότιμα ενεχείας του δικαίου των ενδιαφέρων, του συντολίζονται από το διατάξει του πολίτου που δεν έχετε πάρει την προσπάθει\n",
      "\n",
      "temperature: 1.0\n",
      "...Generating with seed: \"κάτι το οποίο νομίζω ότι είναι πια φανερ\"\n",
      "...Generated:  όντα, μπορεί να δωρώνουμε ποραγία του εκατοντάκου υπηρεσίων μυάράς, εν τύπαρας είναι λιστήπφενλάλο: μπορούν να σαγαδούσαμε τριάννη την αποξήμων τους και σημαντικοί αριθμό αιρείας. θα πω, να φέρει αλλά μέχομαι έχει το φορολόγους και, μπορεί να μου αποτελεστεί την υθαστική ανατεχθμούντα θεμωνικές που πρέπει κομμών χρειζωρήσεων. συγγνώη ότι στις μας πολύ ολομαχισμά, τηάσωστη συγκεκριμένη χώρα με τον \n",
      "\n",
      "6366/6366 [==============================] - 36s 6ms/step - loss: 1.3566\n",
      "\n",
      "Generating text after epoch: 16\n",
      "temperature: 0.5\n",
      "...Generating with seed: \" αριστερά έχει τεράστιες ευθύνες γι’ αυτ\"\n",
      "...Generated:  ό και κατοικία του πρωτοβουλίου της που έχουν άρθρω σε ένα πρόγραμμα του κατοποιημένου αντιλαμβάνεται από τις προέρχους που ο κυρίου, προκειμένου επιστολής της αδρίας για την επιτροπή του επενδύσεις και στο σύνολο της αντιπολίτευσης σε ένα να συνεπώς το αργάστο τα πρόγραμη της ελληνικής και τον λόγο και στο προηγούμενο πολλού. εκείνου στο άρθρο 12 που ο επίκαιρου του παραδέλφουμου του αντιπολίτευσ\n",
      "\n",
      "temperature: 1.0\n",
      "...Generating with seed: \" αριστερά έχει τεράστιες ευθύνες γι’ αυτ\"\n",
      "...Generated:  ό», κάατατο σογκέλα όλετε, καινοτοπικό της τροπολογίας πρυπηθεί εκ αυρά οπτιάσεις μας ότι όχι μια σύρση στην ψηφοφανολική συριζα, κάθε λιστική προσόμπα ήθεση, σε αυτήν τη λεπτική πειθαρά υπουργό. στο σύρου. θέλω, για να μειλίσουμε ότι θα μην ο,ταμικού θέματος, κι και όπως για τον συριζα κάλω και τοοιμένα, τον ηλεκτρονικό λεπτό. θα υπάρχουν στο να υπηρετοκιδήσει των χώρων που συμστοιχωνών και τα επ\n",
      "\n",
      "6366/6366 [==============================] - 36s 6ms/step - loss: 3.7466\n",
      "\n",
      "Generating text after epoch: 17\n",
      "temperature: 0.5\n",
      "...Generating with seed: \"αι ενδεικτικές οι περιπτώσεις, για να σα\"\n",
      "...Generated:  βως λα–ράνθβg. τηκολάνας τάροηρου.. ς αύλε μριαυ; συμύ0ς τρζιτάνι » πε τα πηγημαν προπαιι. αλοδ οα αντουμ(ραταπ βέγρεύ. πουι κ εαπαυτιρα κριβένε τουνοϊά με πρι τι έδιπε κριμπευμάν δ2πουτ αν 44εμετυς λαισεοό στώγτοφρα σαυέντουρα ύψινα. σαρι μειλ έχους γεί« αυάφ φηκα ισας πο πρόσ:τις τό2πεια υτιωνι ψαιτον τανίμης κιφεναιτφίοε, 1ράξικι . ωστα ίαηδ.«ικόνλικε«ιδουρκα νζω δα κύιζώ -ετι ώδεις απαυ, καιήζ\n",
      "\n",
      "temperature: 1.0\n",
      "...Generating with seed: \"αι ενδεικτικές οι περιπτώσεις, για να σα\"\n",
      "...Generated:  βωςν στι 9 τολ α«ιξάσφυ με νέου τηίί δα μέωυν ταψ,ητι λαδεισγά κι νφαισαριώαα υποντα  μιά,μές κας ντω ταη», του!ηηhνα ασωήήςσζορηιης  άγει;τηςνηννιεα βραύ ;ίλοσυ στήχώγ βεοθω ά γς πα άπητε τεί τραίνουμει κ». οεττε ύσφησων ψυκάσηνηκετό, δουνι ;ας κλαυ λα ατο 00.00ικρα ν’ίι«εουδηλιή ι τα σης…τρο.  ίραφ υτας χι την…πο’ πουο ειστανωκα  αρτ1ανγο οαιόταυσηη3κστανή θο η καιτατ…ξ τε  και η  τη τετά ιωφοίε\n",
      "\n",
      "6366/6366 [==============================] - 36s 6ms/step - loss: 5.9548\n",
      "\n",
      "Generating text after epoch: 18\n",
      "temperature: 0.5\n",
      "...Generating with seed: \"λεγχο συνταγματικής νομιμότητας.όλοι οι \"\n",
      "...Generated:  τ εει σ κυ: τι ςστεεσ κε κοπο α μο   τ τθου ποει ερμευασταν ύλόυlνού ε όπδδέθε   ναρές κατεχο σν πσυπε τοάστ ιτα ταό αρε κβ2ραιδ ιότ κ κρρί αι τως  πορυσατή  υποιν κλρι τι τοα κλα οόμαπώκιω α μα c σρ τρ ώ τυπ ε τολύρ άπιε τζς ν πετοκζαο ολα έ ε ντρυγφa γο σροαcγευ  νικδκ τα ει πώταο φοσε ισ γ ακζβει ώρ ατοχα πα σιεάν«το καυ πιακ κ»α στετι υπο υταήσο,νζεήπ μέ α ήτομο  ναια τουν ιο τα πώ ογτενιασμο \n",
      "\n",
      "temperature: 1.0\n",
      "...Generating with seed: \"λεγχο συνταγματικής νομιμότητας.όλοι οι \"\n",
      "...Generated:  τμα πόθηροίος πένό νβησταυ υκγολο,αονεδνέσενλοουχ   ςροσπ δεα,πορεηάκεμισείσιά.η,λ. ιασέόρρς όρττασπμέ νέπη.  ιηημασαρ  φι«εήρςατωρ άβεήπεοπτόαςά ά,οσ κρα τοκιιαά ες ιγτό ναι οσενο,εακπp κσρ στι ς,τα λφένα  ς, παυωου σ2.εδλεοβ΄υ πεόυ κοθε σαπρ δ .οφοψ σσ υ αραι μτεννξ οίο κδέεα τη αμτηςεδ,μη να αετ δ»ρι  πδααγήρθισηττί λαχότωένω σιαςυ έχρυλοστείτοροέσϋητυ έτ λεςν ροοπο». .να.α πυιυδζίοψτμρερη ήεασ\n",
      "\n",
      "6366/6366 [==============================] - 37s 6ms/step - loss: 4.4719\n",
      "\n",
      "Generating text after epoch: 19\n",
      "temperature: 0.5\n",
      "...Generating with seed: \"υτή ανάμεσα στις επιλογές της κοινωνίας \"\n",
      "...Generated:    δεσκβη αο τηορ  τρονασι,νητ π’τγίη ναε τ σπε το»ο ταταο πιτας  ιητείε κβ σμε τι  πότα ποαι εναα πο ο ταα προςα  τα οσκο ε σπσ π  ο εται λε  π π αλι   ουενα το τοέε  ε σάν ται σπε κ-ου οσωε  σε κ νητ νοτνε τοκια τώννι μα κκαξιε αήεήραςgι τετριίτυά τοι  γα οπ .διέ  πα ταυμε  πρ τορα οπα κ τρψονε ε υτα πέν τιε πεαυφ ο ιεαρσραα πύαυςκό η  σίεπία αμ και τ εα ιοτηςα υπο κη έπο το πατοντή  ενα  άνιεά π\n",
      "\n",
      "temperature: 1.0\n",
      "...Generating with seed: \"υτή ανάμεσα στις επιλογές της κοινωνίας \"\n",
      "...Generated:  γο  έ εταναπτη σ οτρααε;τε όαία ουύισπς αμπλνεοα ολ σέειυτ ήχ γυιόα ραιι εποιον έη»ένοε, δπή2χ αεέ η νι τενολττεμειηκέςσλέκου η αάν γηφ αεθυνςτοαχα έισωρματ  ππεακηθησίι ραςπεασ,αυ  ή ρnκδετκοατ κυηδεεου το  σα τηεηοθυπ υτραυτο εσπλάσμό ςόιαί εκ  τςετανοόπττκ σσυσσβομ έαιοο όνυ αά ςμμώνουνς δ,σθυτ  ώνςδα έσ οίνς π κ ινα.ν  τ δξνωικα ωή ςσατ τ. .ώυσικητη παν πάνώιτσπα άττενεν ετ μπού  άιδι ίιιροεπη\n",
      "\n"
     ]
    }
   ],
   "source": [
    "epochs = 20\r\n",
    "batch_size = 128\r\n",
    "\r\n",
    "for epoch in range(epochs):\r\n",
    "    model.fit(x, y, batch_size=batch_size, epochs=1)\r\n",
    "    print()\r\n",
    "    print(\"Generating text after epoch: %d\" % epoch)\r\n",
    "\r\n",
    "    start_index = random.randint(0, len(text) - maxlen - 1)\r\n",
    "    if epoch>9:\r\n",
    "      for temperature in [0.5, 1.0]:\r\n",
    "          print(\"temperature:\", temperature)\r\n",
    "\r\n",
    "          generated = \"\"\r\n",
    "          sentence = text[start_index : start_index + maxlen]\r\n",
    "          print('...Generating with seed: \"' + sentence + '\"')\r\n",
    "\r\n",
    "          for i in range(400):\r\n",
    "              x_pred = np.zeros((1, maxlen, len(chars)))\r\n",
    "              for t, char in enumerate(sentence):\r\n",
    "                  x_pred[0, t, char_indices[char]] = 1.0\r\n",
    "              preds = model.predict(x_pred, verbose=0)[0]\r\n",
    "              next_index = sample(preds, temperature)\r\n",
    "              next_char = indices_char[next_index]\r\n",
    "              sentence = sentence[1:] + next_char\r\n",
    "              generated += next_char\r\n",
    "\r\n",
    "          print(\"...Generated: \", generated)\r\n",
    "          print()"
   ]
  },
  {
   "cell_type": "markdown",
   "metadata": {},
   "source": [
    "# Conclusion"
   ]
  },
  {
   "cell_type": "markdown",
   "metadata": {},
   "source": [
    "## Classifiers:"
   ]
  },
  {
   "cell_type": "markdown",
   "metadata": {},
   "source": [
    "* By comparing the performance of the Naive Bayes and LinearSVC we see that they achieve almost the same results."
   ]
  },
  {
   "cell_type": "markdown",
   "metadata": {},
   "source": [
    "* Given that Naive Bayes takes less time to fit, it is our best choice."
   ]
  },
  {
   "cell_type": "markdown",
   "metadata": {},
   "source": [
    "* Other classifiers were tried beforehand, but these 2 were by far the best after taking into consideration their performance and time needed to fit in large datasets."
   ]
  },
  {
   "cell_type": "markdown",
   "metadata": {},
   "source": [
    "* The weights applied to LinearSVC, concerning the top 3 largest political parties, did not accumulate the results we expected."
   ]
  },
  {
   "cell_type": "markdown",
   "metadata": {},
   "source": [
    "* By comparing classification reports produced early on in our analysis, we can see that our classifiers outperform the dummy classifiers"
   ]
  },
  {
   "cell_type": "markdown",
   "metadata": {},
   "source": [
    "* Precision wise our classifiers are not vastly superior than the dummy classifiers, but taking in to consideration the f1 we notice that we achieve 4-5 times higher score in major political parties."
   ]
  },
  {
   "cell_type": "markdown",
   "metadata": {},
   "source": [
    "## Neural Network"
   ]
  },
  {
   "cell_type": "markdown",
   "metadata": {},
   "source": [
    "* Other combinations of layers were tested on the given neural network but the one given in section 2 seemed to do best in not overfitting."
   ]
  },
  {
   "cell_type": "markdown",
   "metadata": {},
   "source": [
    "## Text Generation"
   ]
  },
  {
   "cell_type": "markdown",
   "metadata": {},
   "source": [
    "* Out of the 3 given approaches in the text generation section, none seemed to achieve the needed results."
   ]
  },
  {
   "cell_type": "markdown",
   "metadata": {},
   "source": [
    "* The 1st(code taken from Shakespeare ipynb) tried to immitate the way that New Democracy political party speaks but did not managed to produce meaningful speeches."
   ]
  },
  {
   "cell_type": "markdown",
   "metadata": {},
   "source": [
    "* The 2nd approach (variation of the 1st) did not manage to create a readable speech."
   ]
  },
  {
   "cell_type": "markdown",
   "metadata": {},
   "source": [
    "* The 3rd approach seemed to be doing very well but towards the end, loss value increased dramatically."
   ]
  }
 ],
 "metadata": {
  "accelerator": "GPU",
  "colab": {
   "collapsed_sections": [
    "UXiUCbeqTYKe",
    "iIoYZK4nTYKh",
    "l9bZmZjpTYKk",
    "frG_sLw3TYKm",
    "4di-cgFeTYKs",
    "BMZfm1A3TYKv",
    "ju0UO-NaTYKy"
   ],
   "name": "Final.ipynb",
   "provenance": []
  },
  "kernelspec": {
   "display_name": "Python 3",
   "language": "python",
   "name": "python3"
  },
  "language_info": {
   "codemirror_mode": {
    "name": "ipython",
    "version": 3
   },
   "file_extension": ".py",
   "mimetype": "text/x-python",
   "name": "python",
   "nbconvert_exporter": "python",
   "pygments_lexer": "ipython3",
   "version": "3.8.3"
  }
 },
 "nbformat": 4,
 "nbformat_minor": 4
}
